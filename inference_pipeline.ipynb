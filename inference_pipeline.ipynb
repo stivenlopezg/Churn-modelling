{
 "cells": [
  {
   "cell_type": "markdown",
   "metadata": {},
   "source": [
    "## Carga de módulos"
   ]
  },
  {
   "cell_type": "code",
   "execution_count": 1,
   "metadata": {},
   "outputs": [],
   "source": [
    "import os\n",
    "import time\n",
    "import boto3\n",
    "import joblib\n",
    "import warnings\n",
    "import pandas as pd\n",
    "from config import region_name\n",
    "from utilities.sagemaker_functions import create_model, transform, \\\n",
    "                                          download_model, decompress_model, prediction_df\n",
    "from utilities.evaluation import generate_report, confusion_matrix, \\\n",
    "                                 calculate_metrics, metrics_summary\n",
    "\n",
    "\n",
    "import sagemaker\n",
    "from smdebug.trials import create_trial\n",
    "from sagemaker.pipeline import PipelineModel\n",
    "from sagemaker.sklearn.estimator import SKLearn\n",
    "from sagemaker import get_execution_role, s3_input\n",
    "from sagemaker.content_types import CONTENT_TYPE_CSV\n",
    "from sagemaker.predictor import RealTimePredictor, csv_serializer, csv_deserializer, \\\n",
    "                                json_serializer, json_deserializer\n",
    "\n",
    "\n",
    "warnings.filterwarnings('ignore')"
   ]
  },
  {
   "cell_type": "code",
   "execution_count": 2,
   "metadata": {},
   "outputs": [],
   "source": [
    "role = get_execution_role()\n",
    "session = sagemaker.Session()"
   ]
  },
  {
   "cell_type": "markdown",
   "metadata": {},
   "source": [
    "Primero vamos a instanciar diferentes variables, por ejemplo, el bucket donde se encuentran los datos alojados para el entrenamiento del XGBoost."
   ]
  },
  {
   "cell_type": "code",
   "execution_count": 3,
   "metadata": {},
   "outputs": [],
   "source": [
    "bucket = 'banking-data'\n",
    "prefix = 'churn-modeling'\n",
    "\n",
    "train_path = f's3://{bucket}/{prefix}/train/train.csv'\n",
    "test_path = f's3://{bucket}/{prefix}/test/test.csv'\n",
    "validation_path = f's3://{bucket}/{prefix}/validation/validation.csv'\n",
    "\n",
    "output_path = f's3://{bucket}/{prefix}/output'"
   ]
  },
  {
   "cell_type": "markdown",
   "metadata": {},
   "source": [
    "### Preprocesamiento (primer contenedor)"
   ]
  },
  {
   "cell_type": "code",
   "execution_count": 4,
   "metadata": {},
   "outputs": [
    {
     "name": "stdout",
     "output_type": "stream",
     "text": [
      "2020-05-11 19:26:43 Starting - Preparing the instances for training\n",
      "2020-05-11 19:26:43 Downloading - Downloading input data\n",
      "2020-05-11 19:26:43 Training - Training image download completed. Training in progress.\n",
      "2020-05-11 19:26:43 Uploading - Uploading generated training model\n",
      "2020-05-11 19:26:43 Completed - Training job completed\u001b[34m2020-05-11 19:26:31,468 sagemaker-containers INFO     Imported framework sagemaker_sklearn_container.training\u001b[0m\n",
      "\u001b[34m2020-05-11 19:26:31,470 sagemaker-containers INFO     No GPUs detected (normal if no gpus installed)\u001b[0m\n",
      "\u001b[34m2020-05-11 19:26:31,482 sagemaker_sklearn_container.training INFO     Invoking user training script.\u001b[0m\n",
      "\u001b[34m2020-05-11 19:26:31,911 sagemaker-containers INFO     Module scikit_preprocessing does not provide a setup.py. \u001b[0m\n",
      "\u001b[34mGenerating setup.py\u001b[0m\n",
      "\u001b[34m2020-05-11 19:26:31,911 sagemaker-containers INFO     Generating setup.cfg\u001b[0m\n",
      "\u001b[34m2020-05-11 19:26:31,911 sagemaker-containers INFO     Generating MANIFEST.in\u001b[0m\n",
      "\u001b[34m2020-05-11 19:26:31,911 sagemaker-containers INFO     Installing module with the following command:\u001b[0m\n",
      "\u001b[34m/miniconda3/bin/python -m pip install . \u001b[0m\n",
      "\u001b[34mProcessing /opt/ml/code\u001b[0m\n",
      "\u001b[34mBuilding wheels for collected packages: scikit-preprocessing\n",
      "  Building wheel for scikit-preprocessing (setup.py): started\n",
      "  Building wheel for scikit-preprocessing (setup.py): finished with status 'done'\n",
      "  Created wheel for scikit-preprocessing: filename=scikit_preprocessing-1.0.0-py2.py3-none-any.whl size=11184 sha256=bd4a115f0a41603bfd9899fae3c644a5ff3224201bac3e81912f18a442e73a36\n",
      "  Stored in directory: /tmp/pip-ephem-wheel-cache-lkwq1exp/wheels/35/24/16/37574d11bf9bde50616c67372a334f94fa8356bc7164af8ca3\u001b[0m\n",
      "\u001b[34mSuccessfully built scikit-preprocessing\u001b[0m\n",
      "\u001b[34mInstalling collected packages: scikit-preprocessing\u001b[0m\n",
      "\u001b[34mSuccessfully installed scikit-preprocessing-1.0.0\u001b[0m\n",
      "\u001b[34m2020-05-11 19:26:33,542 sagemaker-containers INFO     No GPUs detected (normal if no gpus installed)\u001b[0m\n",
      "\u001b[34m2020-05-11 19:26:33,555 sagemaker-containers INFO     Invoking user script\n",
      "\u001b[0m\n",
      "\u001b[34mTraining Env:\n",
      "\u001b[0m\n",
      "\u001b[34m{\n",
      "    \"additional_framework_parameters\": {},\n",
      "    \"channel_input_dirs\": {\n",
      "        \"train\": \"/opt/ml/input/data/train\"\n",
      "    },\n",
      "    \"current_host\": \"algo-1\",\n",
      "    \"framework_module\": \"sagemaker_sklearn_container.training:main\",\n",
      "    \"hosts\": [\n",
      "        \"algo-1\"\n",
      "    ],\n",
      "    \"hyperparameters\": {},\n",
      "    \"input_config_dir\": \"/opt/ml/input/config\",\n",
      "    \"input_data_config\": {\n",
      "        \"train\": {\n",
      "            \"ContentType\": \"text/csv\",\n",
      "            \"TrainingInputMode\": \"File\",\n",
      "            \"S3DistributionType\": \"FullyReplicated\",\n",
      "            \"RecordWrapperType\": \"None\"\n",
      "        }\n",
      "    },\n",
      "    \"input_dir\": \"/opt/ml/input\",\n",
      "    \"is_master\": true,\n",
      "    \"job_name\": \"scikit-preprocessing-2\",\n",
      "    \"log_level\": 20,\n",
      "    \"master_hostname\": \"algo-1\",\n",
      "    \"model_dir\": \"/opt/ml/model\",\n",
      "    \"module_dir\": \"s3://sagemaker-us-east-1-512194003765/scikit-preprocessing-2/source/sourcedir.tar.gz\",\n",
      "    \"module_name\": \"scikit_preprocessing\",\n",
      "    \"network_interface_name\": \"eth0\",\n",
      "    \"num_cpus\": 4,\n",
      "    \"num_gpus\": 0,\n",
      "    \"output_data_dir\": \"/opt/ml/output/data\",\n",
      "    \"output_dir\": \"/opt/ml/output\",\n",
      "    \"output_intermediate_dir\": \"/opt/ml/output/intermediate\",\n",
      "    \"resource_config\": {\n",
      "        \"current_host\": \"algo-1\",\n",
      "        \"hosts\": [\n",
      "            \"algo-1\"\n",
      "        ],\n",
      "        \"network_interface_name\": \"eth0\"\n",
      "    },\n",
      "    \"user_entry_point\": \"scikit_preprocessing.py\"\u001b[0m\n",
      "\u001b[34m}\n",
      "\u001b[0m\n",
      "\u001b[34mEnvironment variables:\n",
      "\u001b[0m\n",
      "\u001b[34mSM_HOSTS=[\"algo-1\"]\u001b[0m\n",
      "\u001b[34mSM_NETWORK_INTERFACE_NAME=eth0\u001b[0m\n",
      "\u001b[34mSM_HPS={}\u001b[0m\n",
      "\u001b[34mSM_USER_ENTRY_POINT=scikit_preprocessing.py\u001b[0m\n",
      "\u001b[34mSM_FRAMEWORK_PARAMS={}\u001b[0m\n",
      "\u001b[34mSM_RESOURCE_CONFIG={\"current_host\":\"algo-1\",\"hosts\":[\"algo-1\"],\"network_interface_name\":\"eth0\"}\u001b[0m\n",
      "\u001b[34mSM_INPUT_DATA_CONFIG={\"train\":{\"ContentType\":\"text/csv\",\"RecordWrapperType\":\"None\",\"S3DistributionType\":\"FullyReplicated\",\"TrainingInputMode\":\"File\"}}\u001b[0m\n",
      "\u001b[34mSM_OUTPUT_DATA_DIR=/opt/ml/output/data\u001b[0m\n",
      "\u001b[34mSM_CHANNELS=[\"train\"]\u001b[0m\n",
      "\u001b[34mSM_CURRENT_HOST=algo-1\u001b[0m\n",
      "\u001b[34mSM_MODULE_NAME=scikit_preprocessing\u001b[0m\n",
      "\u001b[34mSM_LOG_LEVEL=20\u001b[0m\n",
      "\u001b[34mSM_FRAMEWORK_MODULE=sagemaker_sklearn_container.training:main\u001b[0m\n",
      "\u001b[34mSM_INPUT_DIR=/opt/ml/input\u001b[0m\n",
      "\u001b[34mSM_INPUT_CONFIG_DIR=/opt/ml/input/config\u001b[0m\n",
      "\u001b[34mSM_OUTPUT_DIR=/opt/ml/output\u001b[0m\n",
      "\u001b[34mSM_NUM_CPUS=4\u001b[0m\n",
      "\u001b[34mSM_NUM_GPUS=0\u001b[0m\n",
      "\u001b[34mSM_MODEL_DIR=/opt/ml/model\u001b[0m\n",
      "\u001b[34mSM_MODULE_DIR=s3://sagemaker-us-east-1-512194003765/scikit-preprocessing-2/source/sourcedir.tar.gz\u001b[0m\n",
      "\u001b[34mSM_TRAINING_ENV={\"additional_framework_parameters\":{},\"channel_input_dirs\":{\"train\":\"/opt/ml/input/data/train\"},\"current_host\":\"algo-1\",\"framework_module\":\"sagemaker_sklearn_container.training:main\",\"hosts\":[\"algo-1\"],\"hyperparameters\":{},\"input_config_dir\":\"/opt/ml/input/config\",\"input_data_config\":{\"train\":{\"ContentType\":\"text/csv\",\"RecordWrapperType\":\"None\",\"S3DistributionType\":\"FullyReplicated\",\"TrainingInputMode\":\"File\"}},\"input_dir\":\"/opt/ml/input\",\"is_master\":true,\"job_name\":\"scikit-preprocessing-2\",\"log_level\":20,\"master_hostname\":\"algo-1\",\"model_dir\":\"/opt/ml/model\",\"module_dir\":\"s3://sagemaker-us-east-1-512194003765/scikit-preprocessing-2/source/sourcedir.tar.gz\",\"module_name\":\"scikit_preprocessing\",\"network_interface_name\":\"eth0\",\"num_cpus\":4,\"num_gpus\":0,\"output_data_dir\":\"/opt/ml/output/data\",\"output_dir\":\"/opt/ml/output\",\"output_intermediate_dir\":\"/opt/ml/output/intermediate\",\"resource_config\":{\"current_host\":\"algo-1\",\"hosts\":[\"algo-1\"],\"network_interface_name\":\"eth0\"},\"user_entry_point\":\"scikit_preprocessing.py\"}\u001b[0m\n",
      "\u001b[34mSM_USER_ARGS=[]\u001b[0m\n",
      "\u001b[34mSM_OUTPUT_INTERMEDIATE_DIR=/opt/ml/output/intermediate\u001b[0m\n",
      "\u001b[34mSM_CHANNEL_TRAIN=/opt/ml/input/data/train\u001b[0m\n",
      "\u001b[34mPYTHONPATH=/miniconda3/bin:/miniconda3/lib/python37.zip:/miniconda3/lib/python3.7:/miniconda3/lib/python3.7/lib-dynload:/miniconda3/lib/python3.7/site-packages\n",
      "\u001b[0m\n",
      "\u001b[34mInvoking script with the following command:\n",
      "\u001b[0m\n",
      "\u001b[34m/miniconda3/bin/python -m scikit_preprocessing\n",
      "\n",
      "\u001b[0m\n",
      "\u001b[34m/miniconda3/lib/python3.7/site-packages/sklearn/externals/joblib/externals/cloudpickle/cloudpickle.py:47: DeprecationWarning: the imp module is deprecated in favour of importlib; see the module's documentation for alternative uses\n",
      "  import imp\u001b[0m\n",
      "\u001b[34mThe model has been saved!\u001b[0m\n",
      "\u001b[34m2020-05-11 19:26:35,233 sagemaker-containers INFO     Reporting training SUCCESS\u001b[0m\n",
      "Training seconds: 68\n",
      "Billable seconds: 68\n"
     ]
    }
   ],
   "source": [
    "preprocessor = SKLearn(entry_point='scikit_preprocessing.py',\n",
    "                       role=role,\n",
    "                       train_instance_type='ml.m4.xlarge',\n",
    "                       sagemaker_session=session,\n",
    "                       dependencies=['config.py', 'custom_pipeline.py'],\n",
    "                       py_version='py3')\n",
    "\n",
    "preprocessor.fit({'train': s3_input(train_path, content_type='text/csv')}, job_name='scikit-preprocessing-2')"
   ]
  },
  {
   "cell_type": "markdown",
   "metadata": {},
   "source": [
    "## Tranformación por lotes de los datos"
   ]
  },
  {
   "cell_type": "code",
   "execution_count": 5,
   "metadata": {},
   "outputs": [
    {
     "name": "stdout",
     "output_type": "stream",
     "text": [
      "......................\u001b[34mProcessing /opt/ml/code\u001b[0m\n",
      "\u001b[34mBuilding wheels for collected packages: scikit-preprocessing\n",
      "  Building wheel for scikit-preprocessing (setup.py): started\n",
      "  Building wheel for scikit-preprocessing (setup.py): finished with status 'done'\n",
      "  Created wheel for scikit-preprocessing: filename=scikit_preprocessing-1.0.0-py2.py3-none-any.whl size=11182 sha256=07da30184e4e0186eccc700ad7c82977412afd25f6a471dd427a000bd1060cbb\n",
      "  Stored in directory: /tmp/pip-ephem-wheel-cache-v1mu4ddg/wheels/35/24/16/37574d11bf9bde50616c67372a334f94fa8356bc7164af8ca3\u001b[0m\n",
      "\u001b[34mSuccessfully built scikit-preprocessing\u001b[0m\n",
      "\u001b[34mInstalling collected packages: scikit-preprocessing\u001b[0m\n",
      "\u001b[34mSuccessfully installed scikit-preprocessing-1.0.0\u001b[0m\n",
      "\u001b[34m/miniconda3/lib/python3.7/site-packages/sklearn/externals/joblib/externals/cloudpickle/cloudpickle.py:47: DeprecationWarning: the imp module is deprecated in favour of importlib; see the module's documentation for alternative uses\n",
      "  import imp\u001b[0m\n",
      "\u001b[34m[2020-05-11 19:30:44 +0000] [37] [INFO] Starting gunicorn 19.9.0\u001b[0m\n",
      "\u001b[34m[2020-05-11 19:30:44 +0000] [37] [INFO] Listening at: unix:/tmp/gunicorn.sock (37)\u001b[0m\n",
      "\u001b[34m[2020-05-11 19:30:44 +0000] [37] [INFO] Using worker: gevent\u001b[0m\n",
      "\u001b[34m[2020-05-11 19:30:44 +0000] [40] [INFO] Booting worker with pid: 40\u001b[0m\n",
      "\u001b[34m[2020-05-11 19:30:44 +0000] [41] [INFO] Booting worker with pid: 41\u001b[0m\n",
      "\u001b[34m[2020-05-11 19:30:44 +0000] [45] [INFO] Booting worker with pid: 45\u001b[0m\n",
      "\u001b[34m[2020-05-11 19:30:44 +0000] [46] [INFO] Booting worker with pid: 46\u001b[0m\n",
      "\n",
      "\u001b[34m2020-05-11 19:31:10,423 INFO - sagemaker-containers - No GPUs detected (normal if no gpus installed)\u001b[0m\n",
      "\u001b[34m/miniconda3/lib/python3.7/site-packages/sklearn/externals/joblib/externals/cloudpickle/cloudpickle.py:47: DeprecationWarning: the imp module is deprecated in favour of importlib; see the module's documentation for alternative uses\n",
      "  import imp\u001b[0m\n",
      "\u001b[34m169.254.255.130 - - [11/May/2020:19:31:10 +0000] \"GET /ping HTTP/1.1\" 200 0 \"-\" \"Go-http-client/1.1\"\u001b[0m\n",
      "\u001b[34m169.254.255.130 - - [11/May/2020:19:31:10 +0000] \"GET /execution-parameters HTTP/1.1\" 404 232 \"-\" \"Go-http-client/1.1\"\u001b[0m\n",
      "\u001b[35m2020-05-11 19:31:10,423 INFO - sagemaker-containers - No GPUs detected (normal if no gpus installed)\u001b[0m\n",
      "\u001b[35m/miniconda3/lib/python3.7/site-packages/sklearn/externals/joblib/externals/cloudpickle/cloudpickle.py:47: DeprecationWarning: the imp module is deprecated in favour of importlib; see the module's documentation for alternative uses\n",
      "  import imp\u001b[0m\n",
      "\u001b[35m169.254.255.130 - - [11/May/2020:19:31:10 +0000] \"GET /ping HTTP/1.1\" 200 0 \"-\" \"Go-http-client/1.1\"\u001b[0m\n",
      "\u001b[35m169.254.255.130 - - [11/May/2020:19:31:10 +0000] \"GET /execution-parameters HTTP/1.1\" 404 232 \"-\" \"Go-http-client/1.1\"\u001b[0m\n",
      "\u001b[32m2020-05-11T19:31:10.794:[sagemaker logs]: MaxConcurrentTransforms=1, MaxPayloadInMB=100, BatchStrategy=MULTI_RECORD\u001b[0m\n",
      "\u001b[34m2020-05-11 19:31:10,853 INFO - sagemaker-containers - No GPUs detected (normal if no gpus installed)\u001b[0m\n",
      "\u001b[34m/miniconda3/lib/python3.7/site-packages/sklearn/externals/joblib/externals/cloudpickle/cloudpickle.py:47: DeprecationWarning: the imp module is deprecated in favour of importlib; see the module's documentation for alternative uses\n",
      "  import imp\u001b[0m\n",
      "\u001b[34m169.254.255.130 - - [11/May/2020:19:31:11 +0000] \"POST /invocations HTTP/1.1\" 200 419864 \"-\" \"Go-http-client/1.1\"\u001b[0m\n",
      "\u001b[35m2020-05-11 19:31:10,853 INFO - sagemaker-containers - No GPUs detected (normal if no gpus installed)\u001b[0m\n",
      "\u001b[35m/miniconda3/lib/python3.7/site-packages/sklearn/externals/joblib/externals/cloudpickle/cloudpickle.py:47: DeprecationWarning: the imp module is deprecated in favour of importlib; see the module's documentation for alternative uses\n",
      "  import imp\u001b[0m\n",
      "\u001b[35m169.254.255.130 - - [11/May/2020:19:31:11 +0000] \"POST /invocations HTTP/1.1\" 200 419864 \"-\" \"Go-http-client/1.1\"\u001b[0m\n"
     ]
    }
   ],
   "source": [
    "transform(preprocessor, data=train_path, output_path=output_path, instance_type='ml.m4.xlarge')"
   ]
  },
  {
   "cell_type": "code",
   "execution_count": 6,
   "metadata": {},
   "outputs": [
    {
     "name": "stderr",
     "output_type": "stream",
     "text": [
      "Using already existing model: scikit-preprocessing-2\n"
     ]
    },
    {
     "name": "stdout",
     "output_type": "stream",
     "text": [
      ".......................\u001b[34mProcessing /opt/ml/code\u001b[0m\n",
      "\u001b[34mBuilding wheels for collected packages: scikit-preprocessing\n",
      "  Building wheel for scikit-preprocessing (setup.py): started\u001b[0m\n",
      "\u001b[34m  Building wheel for scikit-preprocessing (setup.py): finished with status 'done'\n",
      "  Created wheel for scikit-preprocessing: filename=scikit_preprocessing-1.0.0-py2.py3-none-any.whl size=11182 sha256=a759324e3893cfcf90ca16dc5d63c43bfb3444f3ff1574549263624db32fa03a\n",
      "  Stored in directory: /tmp/pip-ephem-wheel-cache-afybk29v/wheels/35/24/16/37574d11bf9bde50616c67372a334f94fa8356bc7164af8ca3\u001b[0m\n",
      "\u001b[34mSuccessfully built scikit-preprocessing\u001b[0m\n",
      "\u001b[34mInstalling collected packages: scikit-preprocessing\u001b[0m\n",
      "\u001b[34mSuccessfully installed scikit-preprocessing-1.0.0\u001b[0m\n",
      "\u001b[34m/miniconda3/lib/python3.7/site-packages/sklearn/externals/joblib/externals/cloudpickle/cloudpickle.py:47: DeprecationWarning: the imp module is deprecated in favour of importlib; see the module's documentation for alternative uses\n",
      "  import imp\u001b[0m\n",
      "\u001b[34m[2020-05-11 19:35:22 +0000] [40] [INFO] Starting gunicorn 19.9.0\u001b[0m\n",
      "\u001b[34m[2020-05-11 19:35:22 +0000] [40] [INFO] Listening at: unix:/tmp/gunicorn.sock (40)\u001b[0m\n",
      "\u001b[34m[2020-05-11 19:35:22 +0000] [40] [INFO] Using worker: gevent\u001b[0m\n",
      "\u001b[34m[2020-05-11 19:35:22 +0000] [43] [INFO] Booting worker with pid: 43\u001b[0m\n",
      "\u001b[34m[2020-05-11 19:35:22 +0000] [44] [INFO] Booting worker with pid: 44\u001b[0m\n",
      "\u001b[34m[2020-05-11 19:35:22 +0000] [48] [INFO] Booting worker with pid: 48\u001b[0m\n",
      "\u001b[34m[2020-05-11 19:35:22 +0000] [49] [INFO] Booting worker with pid: 49\u001b[0m\n",
      "\n",
      "\u001b[34m2020-05-11 19:35:31,880 INFO - sagemaker-containers - No GPUs detected (normal if no gpus installed)\u001b[0m\n",
      "\u001b[34m/miniconda3/lib/python3.7/site-packages/sklearn/externals/joblib/externals/cloudpickle/cloudpickle.py:47: DeprecationWarning: the imp module is deprecated in favour of importlib; see the module's documentation for alternative uses\n",
      "  import imp\u001b[0m\n",
      "\u001b[34m169.254.255.130 - - [11/May/2020:19:35:32 +0000] \"GET /ping HTTP/1.1\" 200 0 \"-\" \"Go-http-client/1.1\"\u001b[0m\n",
      "\u001b[34m169.254.255.130 - - [11/May/2020:19:35:32 +0000] \"GET /execution-parameters HTTP/1.1\" 404 232 \"-\" \"Go-http-client/1.1\"\u001b[0m\n",
      "\u001b[34m169.254.255.130 - - [11/May/2020:19:35:32 +0000] \"POST /invocations HTTP/1.1\" 200 108170 \"-\" \"Go-http-client/1.1\"\u001b[0m\n",
      "\u001b[32m2020-05-11T19:35:32.227:[sagemaker logs]: MaxConcurrentTransforms=1, MaxPayloadInMB=100, BatchStrategy=MULTI_RECORD\u001b[0m\n"
     ]
    }
   ],
   "source": [
    "transform(preprocessor, data=validation_path, output_path=output_path, instance_type='ml.m4.xlarge')"
   ]
  },
  {
   "cell_type": "code",
   "execution_count": 7,
   "metadata": {},
   "outputs": [
    {
     "name": "stderr",
     "output_type": "stream",
     "text": [
      "Using already existing model: scikit-preprocessing-2\n"
     ]
    },
    {
     "name": "stdout",
     "output_type": "stream",
     "text": [
      ".....................\u001b[34mProcessing /opt/ml/code\u001b[0m\n",
      "\u001b[34mBuilding wheels for collected packages: scikit-preprocessing\n",
      "  Building wheel for scikit-preprocessing (setup.py): started\n",
      "  Building wheel for scikit-preprocessing (setup.py): finished with status 'done'\n",
      "  Created wheel for scikit-preprocessing: filename=scikit_preprocessing-1.0.0-py2.py3-none-any.whl size=11181 sha256=18ec9bc94f815baef1135e6238fbe08fb0b143fa045f76e0e9a289e0470e7d36\n",
      "  Stored in directory: /tmp/pip-ephem-wheel-cache-2b2n69f6/wheels/35/24/16/37574d11bf9bde50616c67372a334f94fa8356bc7164af8ca3\u001b[0m\n",
      "\u001b[34mSuccessfully built scikit-preprocessing\u001b[0m\n",
      "\u001b[34mInstalling collected packages: scikit-preprocessing\u001b[0m\n",
      "\u001b[34mSuccessfully installed scikit-preprocessing-1.0.0\u001b[0m\n",
      "\u001b[34m/miniconda3/lib/python3.7/site-packages/sklearn/externals/joblib/externals/cloudpickle/cloudpickle.py:47: DeprecationWarning: the imp module is deprecated in favour of importlib; see the module's documentation for alternative uses\n",
      "  import imp\u001b[0m\n",
      "\u001b[34m[2020-05-11 19:39:05 +0000] [38] [INFO] Starting gunicorn 19.9.0\u001b[0m\n",
      "\u001b[34m[2020-05-11 19:39:05 +0000] [38] [INFO] Listening at: unix:/tmp/gunicorn.sock (38)\u001b[0m\n",
      "\u001b[34m[2020-05-11 19:39:05 +0000] [38] [INFO] Using worker: gevent\u001b[0m\n",
      "\u001b[34m[2020-05-11 19:39:05 +0000] [41] [INFO] Booting worker with pid: 41\u001b[0m\n",
      "\u001b[34m[2020-05-11 19:39:05 +0000] [45] [INFO] Booting worker with pid: 45\u001b[0m\n",
      "\u001b[34m[2020-05-11 19:39:05 +0000] [46] [INFO] Booting worker with pid: 46\u001b[0m\n",
      "\u001b[34m[2020-05-11 19:39:05 +0000] [47] [INFO] Booting worker with pid: 47\u001b[0m\n",
      "\n",
      "\u001b[34m2020-05-11 19:39:38,199 INFO - sagemaker-containers - No GPUs detected (normal if no gpus installed)\u001b[0m\n",
      "\u001b[35m2020-05-11 19:39:38,199 INFO - sagemaker-containers - No GPUs detected (normal if no gpus installed)\u001b[0m\n",
      "\u001b[34m/miniconda3/lib/python3.7/site-packages/sklearn/externals/joblib/externals/cloudpickle/cloudpickle.py:47: DeprecationWarning: the imp module is deprecated in favour of importlib; see the module's documentation for alternative uses\n",
      "  import imp\u001b[0m\n",
      "\u001b[34m169.254.255.130 - - [11/May/2020:19:39:38 +0000] \"GET /ping HTTP/1.1\" 200 0 \"-\" \"Go-http-client/1.1\"\u001b[0m\n",
      "\u001b[34m2020-05-11 19:39:38,541 INFO - sagemaker-containers - No GPUs detected (normal if no gpus installed)\u001b[0m\n",
      "\u001b[34m/miniconda3/lib/python3.7/site-packages/sklearn/externals/joblib/externals/cloudpickle/cloudpickle.py:47: DeprecationWarning: the imp module is deprecated in favour of importlib; see the module's documentation for alternative uses\n",
      "  import imp\u001b[0m\n",
      "\u001b[34m169.254.255.130 - - [11/May/2020:19:39:38 +0000] \"GET /execution-parameters HTTP/1.1\" 404 232 \"-\" \"Go-http-client/1.1\"\u001b[0m\n",
      "\u001b[34m2020-05-11 19:39:38,913 INFO - sagemaker-containers - No GPUs detected (normal if no gpus installed)\u001b[0m\n",
      "\u001b[35m/miniconda3/lib/python3.7/site-packages/sklearn/externals/joblib/externals/cloudpickle/cloudpickle.py:47: DeprecationWarning: the imp module is deprecated in favour of importlib; see the module's documentation for alternative uses\n",
      "  import imp\u001b[0m\n",
      "\u001b[35m169.254.255.130 - - [11/May/2020:19:39:38 +0000] \"GET /ping HTTP/1.1\" 200 0 \"-\" \"Go-http-client/1.1\"\u001b[0m\n",
      "\u001b[35m2020-05-11 19:39:38,541 INFO - sagemaker-containers - No GPUs detected (normal if no gpus installed)\u001b[0m\n",
      "\u001b[35m/miniconda3/lib/python3.7/site-packages/sklearn/externals/joblib/externals/cloudpickle/cloudpickle.py:47: DeprecationWarning: the imp module is deprecated in favour of importlib; see the module's documentation for alternative uses\n",
      "  import imp\u001b[0m\n",
      "\u001b[35m169.254.255.130 - - [11/May/2020:19:39:38 +0000] \"GET /execution-parameters HTTP/1.1\" 404 232 \"-\" \"Go-http-client/1.1\"\u001b[0m\n",
      "\u001b[35m2020-05-11 19:39:38,913 INFO - sagemaker-containers - No GPUs detected (normal if no gpus installed)\u001b[0m\n",
      "\u001b[34m/miniconda3/lib/python3.7/site-packages/sklearn/externals/joblib/externals/cloudpickle/cloudpickle.py:47: DeprecationWarning: the imp module is deprecated in favour of importlib; see the module's documentation for alternative uses\n",
      "  import imp\u001b[0m\n",
      "\u001b[34m169.254.255.130 - - [11/May/2020:19:39:39 +0000] \"POST /invocations HTTP/1.1\" 200 67141 \"-\" \"Go-http-client/1.1\"\u001b[0m\n",
      "\u001b[35m/miniconda3/lib/python3.7/site-packages/sklearn/externals/joblib/externals/cloudpickle/cloudpickle.py:47: DeprecationWarning: the imp module is deprecated in favour of importlib; see the module's documentation for alternative uses\n",
      "  import imp\u001b[0m\n",
      "\u001b[35m169.254.255.130 - - [11/May/2020:19:39:39 +0000] \"POST /invocations HTTP/1.1\" 200 67141 \"-\" \"Go-http-client/1.1\"\u001b[0m\n",
      "\u001b[32m2020-05-11T19:39:38.860:[sagemaker logs]: MaxConcurrentTransforms=1, MaxPayloadInMB=100, BatchStrategy=MULTI_RECORD\u001b[0m\n"
     ]
    }
   ],
   "source": [
    "transform(preprocessor, data=test_path, output_path=output_path, instance_type='ml.m4.xlarge')"
   ]
  },
  {
   "cell_type": "markdown",
   "metadata": {},
   "source": [
    "## XGBoost (Segundo contenedor)"
   ]
  },
  {
   "cell_type": "code",
   "execution_count": 5,
   "metadata": {},
   "outputs": [
    {
     "name": "stdout",
     "output_type": "stream",
     "text": [
      "2020-05-11 19:50:53 Starting - Preparing the instances for training\n",
      "2020-05-11 19:50:53 Downloading - Downloading input data\n",
      "2020-05-11 19:50:53 Training - Training image download completed. Training in progress.\n",
      "2020-05-11 19:50:53 Uploading - Uploading generated training model\n",
      "2020-05-11 19:50:53 Completed - Training job completed\u001b[34mINFO:sagemaker-containers:Imported framework sagemaker_xgboost_container.training\u001b[0m\n",
      "\u001b[34mINFO:sagemaker-containers:Failed to parse hyperparameter objective value binary:logistic to Json.\u001b[0m\n",
      "\u001b[34mReturning the value itself\u001b[0m\n",
      "\u001b[34mINFO:sagemaker-containers:No GPUs detected (normal if no gpus installed)\u001b[0m\n",
      "\u001b[34mINFO:sagemaker_xgboost_container.training:Running XGBoost Sagemaker in algorithm mode\u001b[0m\n",
      "\u001b[34mINFO:root:Determined delimiter of CSV input is ','\u001b[0m\n",
      "\u001b[34mINFO:root:Determined delimiter of CSV input is ','\u001b[0m\n",
      "\u001b[34mINFO:root:Determined delimiter of CSV input is ','\u001b[0m\n",
      "\u001b[34m[19:47:16] 7000x11 matrix with 77000 entries loaded from /opt/ml/input/data/train?format=csv&label_column=0&delimiter=,\u001b[0m\n",
      "\u001b[34mINFO:root:Determined delimiter of CSV input is ','\u001b[0m\n",
      "\u001b[34m[19:47:16] 1800x11 matrix with 19800 entries loaded from /opt/ml/input/data/validation?format=csv&label_column=0&delimiter=,\u001b[0m\n",
      "\u001b[34mINFO:root:Single node training.\u001b[0m\n",
      "\u001b[34m[2020-05-11 19:47:16.414 ip-10-0-80-126.ec2.internal:1 INFO json_config.py:90] Creating hook from json_config at /opt/ml/input/config/debughookconfig.json.\u001b[0m\n",
      "\u001b[34m[2020-05-11 19:47:16.415 ip-10-0-80-126.ec2.internal:1 INFO hook.py:151] tensorboard_dir has not been set for the hook. SMDebug will not be exporting tensorboard summaries.\u001b[0m\n",
      "\u001b[34m[2020-05-11 19:47:16.415 ip-10-0-80-126.ec2.internal:1 INFO hook.py:196] Saving to /opt/ml/output/tensors\u001b[0m\n",
      "\u001b[34mINFO:root:Debug hook created from config\u001b[0m\n",
      "\u001b[34mINFO:root:Train matrix has 7000 rows\u001b[0m\n",
      "\u001b[34mINFO:root:Validation matrix has 1800 rows\u001b[0m\n",
      "\u001b[34m[0]#011train-error:0.308429#011validation-error:0.301667\u001b[0m\n",
      "\u001b[34m[2020-05-11 19:47:16.531 ip-10-0-80-126.ec2.internal:1 INFO hook.py:325] Monitoring the collections: full_shap, feature_importance, average_shap, metrics, losses\u001b[0m\n",
      "\u001b[34m[1]#011train-error:0.214857#011validation-error:0.201667\u001b[0m\n",
      "\u001b[34m[2]#011train-error:0.202286#011validation-error:0.187778\u001b[0m\n",
      "\u001b[34m[3]#011train-error:0.202#011validation-error:0.188889\u001b[0m\n",
      "\u001b[34m[4]#011train-error:0.199#011validation-error:0.2\u001b[0m\n",
      "\u001b[34m[5]#011train-error:0.205571#011validation-error:0.199444\u001b[0m\n",
      "\u001b[34m[6]#011train-error:0.200857#011validation-error:0.192778\u001b[0m\n",
      "\u001b[34m[7]#011train-error:0.207#011validation-error:0.207222\u001b[0m\n",
      "\u001b[34m[8]#011train-error:0.205571#011validation-error:0.201111\u001b[0m\n",
      "\u001b[34m[9]#011train-error:0.200857#011validation-error:0.192778\u001b[0m\n",
      "\u001b[34m[10]#011train-error:0.199143#011validation-error:0.195556\u001b[0m\n",
      "\u001b[34m[11]#011train-error:0.196714#011validation-error:0.196111\u001b[0m\n",
      "\u001b[34m[12]#011train-error:0.198#011validation-error:0.199444\u001b[0m\n",
      "Training seconds: 78\n",
      "Billable seconds: 28\n",
      "Managed Spot Training savings: 64.1%\n"
     ]
    }
   ],
   "source": [
    "hyperparams = {\n",
    "    'objective': 'binary:logistic',\n",
    "    'early_stopping_rounds': 10,\n",
    "    'num_round': 250,\n",
    "    'max_depth': 4,\n",
    "    'subsample': 0.8,\n",
    "    'colsample_bytree': 0.8,\n",
    "    'scale_pos_weight': 4\n",
    "}\n",
    "\n",
    "job_name = 'xgboosting-baseline'\n",
    "xgb = create_model(image='xgboost', role=role, hyperparameters=hyperparams,\n",
    "                   instance_type='ml.m4.xlarge', output_path=output_path,\n",
    "                   region_name=region_name, s3_train=f'{output_path}/train.csv.out',\n",
    "                   s3_validation=f'{output_path}/validation.csv.out', job_name=job_name)"
   ]
  },
  {
   "cell_type": "markdown",
   "metadata": {},
   "source": [
    "## Evaluación del modelo base (Benchmark)"
   ]
  },
  {
   "cell_type": "code",
   "execution_count": 6,
   "metadata": {},
   "outputs": [],
   "source": [
    "test_label = pd.read_csv(f's3://{bucket}/{prefix}/test/test_label.csv', sep=';', names=['label'])\n",
    "benchmark = pd.DataFrame([0] * test_label.shape[0], columns=['prediction'])\n",
    "\n",
    "metrics = calculate_metrics(test_label['label'], benchmark['prediction'])"
   ]
  },
  {
   "cell_type": "code",
   "execution_count": 7,
   "metadata": {},
   "outputs": [
    {
     "name": "stdout",
     "output_type": "stream",
     "text": [
      "The AUC is: 0.5\n",
      "The accuracy is: 0.8\n",
      "The precision is: 0.0\n",
      "The recall is: 0.0\n",
      "The F1 score is: 0.0\n"
     ]
    },
    {
     "data": {
      "text/html": [
       "<div>\n",
       "<style scoped>\n",
       "    .dataframe tbody tr th:only-of-type {\n",
       "        vertical-align: middle;\n",
       "    }\n",
       "\n",
       "    .dataframe tbody tr th {\n",
       "        vertical-align: top;\n",
       "    }\n",
       "\n",
       "    .dataframe thead th {\n",
       "        text-align: right;\n",
       "    }\n",
       "</style>\n",
       "<table border=\"1\" class=\"dataframe\">\n",
       "  <thead>\n",
       "    <tr style=\"text-align: right;\">\n",
       "      <th>Predicted</th>\n",
       "      <th>0</th>\n",
       "    </tr>\n",
       "    <tr>\n",
       "      <th>Observed</th>\n",
       "      <th></th>\n",
       "    </tr>\n",
       "  </thead>\n",
       "  <tbody>\n",
       "    <tr>\n",
       "      <th>0</th>\n",
       "      <td>1.0</td>\n",
       "    </tr>\n",
       "    <tr>\n",
       "      <th>1</th>\n",
       "      <td>1.0</td>\n",
       "    </tr>\n",
       "  </tbody>\n",
       "</table>\n",
       "</div>"
      ],
      "text/plain": [
       "Predicted    0\n",
       "Observed      \n",
       "0          1.0\n",
       "1          1.0"
      ]
     },
     "execution_count": 7,
     "metadata": {},
     "output_type": "execute_result"
    }
   ],
   "source": [
    "metrics_summary(metrics)\n",
    "confusion_matrix(test_label['label'], benchmark['prediction'])"
   ]
  },
  {
   "cell_type": "markdown",
   "metadata": {},
   "source": [
    "## Evaluación del modelo"
   ]
  },
  {
   "cell_type": "code",
   "execution_count": 9,
   "metadata": {},
   "outputs": [
    {
     "data": {
      "text/plain": [
       "0"
      ]
     },
     "execution_count": 9,
     "metadata": {},
     "output_type": "execute_result"
    }
   ],
   "source": [
    "download_model(model_path=f'{output_path}/{job_name}/output/model.tar.gz',\n",
    "               local_dir=f'models/{job_name}/model.tar.gz')\n",
    "decompress_model(local_dir=f'models/{job_name}/model.tar.gz')"
   ]
  },
  {
   "cell_type": "code",
   "execution_count": 10,
   "metadata": {},
   "outputs": [],
   "source": [
    "model = joblib.load('xgboost-model')\n",
    "prediction = prediction_df(model, file_path=f'{output_path}/test.csv.out', score=0.5)\n",
    "metrics = calculate_metrics(test_label['label'], prediction['prediction'])"
   ]
  },
  {
   "cell_type": "code",
   "execution_count": 11,
   "metadata": {},
   "outputs": [
    {
     "data": {
      "text/html": [
       "<div>\n",
       "<style scoped>\n",
       "    .dataframe tbody tr th:only-of-type {\n",
       "        vertical-align: middle;\n",
       "    }\n",
       "\n",
       "    .dataframe tbody tr th {\n",
       "        vertical-align: top;\n",
       "    }\n",
       "\n",
       "    .dataframe thead th {\n",
       "        text-align: right;\n",
       "    }\n",
       "</style>\n",
       "<table border=\"1\" class=\"dataframe\">\n",
       "  <thead>\n",
       "    <tr style=\"text-align: right;\">\n",
       "      <th></th>\n",
       "      <th>f1-score</th>\n",
       "      <th>precision</th>\n",
       "      <th>recall</th>\n",
       "      <th>support</th>\n",
       "    </tr>\n",
       "  </thead>\n",
       "  <tbody>\n",
       "    <tr>\n",
       "      <th>0</th>\n",
       "      <td>0.86</td>\n",
       "      <td>0.93</td>\n",
       "      <td>0.81</td>\n",
       "      <td>956.0</td>\n",
       "    </tr>\n",
       "    <tr>\n",
       "      <th>1</th>\n",
       "      <td>0.60</td>\n",
       "      <td>0.50</td>\n",
       "      <td>0.75</td>\n",
       "      <td>244.0</td>\n",
       "    </tr>\n",
       "    <tr>\n",
       "      <th>micro avg</th>\n",
       "      <td>0.80</td>\n",
       "      <td>0.80</td>\n",
       "      <td>0.80</td>\n",
       "      <td>1200.0</td>\n",
       "    </tr>\n",
       "    <tr>\n",
       "      <th>macro avg</th>\n",
       "      <td>0.73</td>\n",
       "      <td>0.71</td>\n",
       "      <td>0.78</td>\n",
       "      <td>1200.0</td>\n",
       "    </tr>\n",
       "    <tr>\n",
       "      <th>weighted avg</th>\n",
       "      <td>0.81</td>\n",
       "      <td>0.84</td>\n",
       "      <td>0.80</td>\n",
       "      <td>1200.0</td>\n",
       "    </tr>\n",
       "  </tbody>\n",
       "</table>\n",
       "</div>"
      ],
      "text/plain": [
       "              f1-score  precision  recall  support\n",
       "0                 0.86       0.93    0.81    956.0\n",
       "1                 0.60       0.50    0.75    244.0\n",
       "micro avg         0.80       0.80    0.80   1200.0\n",
       "macro avg         0.73       0.71    0.78   1200.0\n",
       "weighted avg      0.81       0.84    0.80   1200.0"
      ]
     },
     "execution_count": 11,
     "metadata": {},
     "output_type": "execute_result"
    }
   ],
   "source": [
    "generate_report(test_label['label'], prediction['prediction'])"
   ]
  },
  {
   "cell_type": "code",
   "execution_count": 12,
   "metadata": {},
   "outputs": [
    {
     "name": "stdout",
     "output_type": "stream",
     "text": [
      "The AUC is: 0.78\n",
      "The accuracy is: 0.8\n",
      "The precision is: 0.5\n",
      "The recall is: 0.75\n",
      "The F1 score is: 0.6\n"
     ]
    },
    {
     "data": {
      "text/html": [
       "<div>\n",
       "<style scoped>\n",
       "    .dataframe tbody tr th:only-of-type {\n",
       "        vertical-align: middle;\n",
       "    }\n",
       "\n",
       "    .dataframe tbody tr th {\n",
       "        vertical-align: top;\n",
       "    }\n",
       "\n",
       "    .dataframe thead th {\n",
       "        text-align: right;\n",
       "    }\n",
       "</style>\n",
       "<table border=\"1\" class=\"dataframe\">\n",
       "  <thead>\n",
       "    <tr style=\"text-align: right;\">\n",
       "      <th>Predicted</th>\n",
       "      <th>0</th>\n",
       "      <th>1</th>\n",
       "    </tr>\n",
       "    <tr>\n",
       "      <th>Observed</th>\n",
       "      <th></th>\n",
       "      <th></th>\n",
       "    </tr>\n",
       "  </thead>\n",
       "  <tbody>\n",
       "    <tr>\n",
       "      <th>0</th>\n",
       "      <td>0.81</td>\n",
       "      <td>0.19</td>\n",
       "    </tr>\n",
       "    <tr>\n",
       "      <th>1</th>\n",
       "      <td>0.25</td>\n",
       "      <td>0.75</td>\n",
       "    </tr>\n",
       "  </tbody>\n",
       "</table>\n",
       "</div>"
      ],
      "text/plain": [
       "Predicted     0     1\n",
       "Observed             \n",
       "0          0.81  0.19\n",
       "1          0.25  0.75"
      ]
     },
     "execution_count": 12,
     "metadata": {},
     "output_type": "execute_result"
    }
   ],
   "source": [
    "metrics_summary(metrics)\n",
    "confusion_matrix(test_label['label'], prediction['prediction'])"
   ]
  },
  {
   "cell_type": "markdown",
   "metadata": {},
   "source": [
    "## Optimización de hiperparametros"
   ]
  },
  {
   "cell_type": "code",
   "execution_count": 15,
   "metadata": {},
   "outputs": [],
   "source": [
    "from sagemaker.amazon.amazon_estimator import get_image_uri\n",
    "\n",
    "hyperparams = {\n",
    "    'objective': 'binary:logistic',\n",
    "    'early_stopping_rounds': 10,\n",
    "    'num_round': 200,\n",
    "    'max_depth': 4,\n",
    "    'subsample': 0.7,\n",
    "    'colsample_bytree': 0.8,\n",
    "    'scale_pos_weight': 4\n",
    "}\n",
    "\n",
    "container = get_image_uri(region_name, 'xgboost', '0.90-2')\n",
    "\n",
    "model = sagemaker.estimator.Estimator(container,\n",
    "                                      role=role,\n",
    "                                      train_instance_count=1,\n",
    "                                      train_instance_type='ml.m4.xlarge',\n",
    "                                      train_use_spot_instances=True,\n",
    "                                      train_max_run=300,\n",
    "                                      train_max_wait=600,\n",
    "                                      output_path=output_path,\n",
    "                                      sagemaker_session=session)\n",
    "\n",
    "model.set_hyperparameters(**hyperparams)"
   ]
  },
  {
   "cell_type": "code",
   "execution_count": 18,
   "metadata": {},
   "outputs": [],
   "source": [
    "from sagemaker.tuner import IntegerParameter, ContinuousParameter, HyperparameterTuner\n",
    "\n",
    "xgb_hyperparameter_tuner = HyperparameterTuner(estimator=model,\n",
    "                                               objective_metric_name='validation:f1',\n",
    "                                               objective_type='Maximize',\n",
    "                                               max_jobs=20,\n",
    "                                               max_parallel_jobs=3,\n",
    "                                               hyperparameter_ranges={\n",
    "                                                   'max_depth': IntegerParameter(3, 12),\n",
    "                                                   'num_round': IntegerParameter(100, 300),\n",
    "                                                   'subsample': ContinuousParameter(0.5, 0.9)\n",
    "                                               })"
   ]
  },
  {
   "cell_type": "code",
   "execution_count": 19,
   "metadata": {},
   "outputs": [],
   "source": [
    "s3_input_train = sagemaker.s3_input(s3_data=f'{output_path}/train.csv.out', content_type='csv')\n",
    "s3_input_validation = sagemaker.s3_input(s3_data=f'{output_path}/validation.csv.out', content_type='csv')\n",
    "\n",
    "xgb_hyperparameter_tuner.fit({'train': s3_input_train, 'validation': s3_input_validation}, job_name='xgboost-tuner')"
   ]
  },
  {
   "cell_type": "code",
   "execution_count": 20,
   "metadata": {},
   "outputs": [
    {
     "name": "stdout",
     "output_type": "stream",
     "text": [
      "..........................................................................................................................................................................................................................................................................................!\n"
     ]
    }
   ],
   "source": [
    "xgb_hyperparameter_tuner.wait()"
   ]
  },
  {
   "cell_type": "code",
   "execution_count": 21,
   "metadata": {},
   "outputs": [
    {
     "data": {
      "text/plain": [
       "'xgboost-tuner-012-36066e2c'"
      ]
     },
     "execution_count": 21,
     "metadata": {},
     "output_type": "execute_result"
    }
   ],
   "source": [
    "xgb_hyperparameter_tuner.best_training_job()"
   ]
  },
  {
   "cell_type": "code",
   "execution_count": 22,
   "metadata": {},
   "outputs": [
    {
     "data": {
      "text/plain": [
       "0"
      ]
     },
     "execution_count": 22,
     "metadata": {},
     "output_type": "execute_result"
    }
   ],
   "source": [
    "tuner = xgb_hyperparameter_tuner.best_training_job()\n",
    "download_model(model_path=f'{output_path}/{tuner}/output/model.tar.gz',\n",
    "               local_dir=f'models/{tuner}/model.tar.gz')\n",
    "decompress_model(local_dir=f'models/{tuner}/model.tar.gz')"
   ]
  },
  {
   "cell_type": "code",
   "execution_count": 23,
   "metadata": {},
   "outputs": [],
   "source": [
    "model = joblib.load('xgboost-model')\n",
    "prediction = prediction_df(model, file_path=f'{output_path}/test.csv.out', score=0.5)\n",
    "metrics = calculate_metrics(test_label['label'], prediction['prediction'])"
   ]
  },
  {
   "cell_type": "code",
   "execution_count": 24,
   "metadata": {},
   "outputs": [
    {
     "data": {
      "text/html": [
       "<div>\n",
       "<style scoped>\n",
       "    .dataframe tbody tr th:only-of-type {\n",
       "        vertical-align: middle;\n",
       "    }\n",
       "\n",
       "    .dataframe tbody tr th {\n",
       "        vertical-align: top;\n",
       "    }\n",
       "\n",
       "    .dataframe thead th {\n",
       "        text-align: right;\n",
       "    }\n",
       "</style>\n",
       "<table border=\"1\" class=\"dataframe\">\n",
       "  <thead>\n",
       "    <tr style=\"text-align: right;\">\n",
       "      <th></th>\n",
       "      <th>f1-score</th>\n",
       "      <th>precision</th>\n",
       "      <th>recall</th>\n",
       "      <th>support</th>\n",
       "    </tr>\n",
       "  </thead>\n",
       "  <tbody>\n",
       "    <tr>\n",
       "      <th>0</th>\n",
       "      <td>0.89</td>\n",
       "      <td>0.89</td>\n",
       "      <td>0.89</td>\n",
       "      <td>956.0</td>\n",
       "    </tr>\n",
       "    <tr>\n",
       "      <th>1</th>\n",
       "      <td>0.57</td>\n",
       "      <td>0.57</td>\n",
       "      <td>0.57</td>\n",
       "      <td>244.0</td>\n",
       "    </tr>\n",
       "    <tr>\n",
       "      <th>micro avg</th>\n",
       "      <td>0.83</td>\n",
       "      <td>0.83</td>\n",
       "      <td>0.83</td>\n",
       "      <td>1200.0</td>\n",
       "    </tr>\n",
       "    <tr>\n",
       "      <th>macro avg</th>\n",
       "      <td>0.73</td>\n",
       "      <td>0.73</td>\n",
       "      <td>0.73</td>\n",
       "      <td>1200.0</td>\n",
       "    </tr>\n",
       "    <tr>\n",
       "      <th>weighted avg</th>\n",
       "      <td>0.83</td>\n",
       "      <td>0.83</td>\n",
       "      <td>0.83</td>\n",
       "      <td>1200.0</td>\n",
       "    </tr>\n",
       "  </tbody>\n",
       "</table>\n",
       "</div>"
      ],
      "text/plain": [
       "              f1-score  precision  recall  support\n",
       "0                 0.89       0.89    0.89    956.0\n",
       "1                 0.57       0.57    0.57    244.0\n",
       "micro avg         0.83       0.83    0.83   1200.0\n",
       "macro avg         0.73       0.73    0.73   1200.0\n",
       "weighted avg      0.83       0.83    0.83   1200.0"
      ]
     },
     "execution_count": 24,
     "metadata": {},
     "output_type": "execute_result"
    }
   ],
   "source": [
    "generate_report(test_label['label'], prediction['prediction'])"
   ]
  },
  {
   "cell_type": "code",
   "execution_count": 25,
   "metadata": {},
   "outputs": [
    {
     "name": "stdout",
     "output_type": "stream",
     "text": [
      "The AUC is: 0.73\n",
      "The accuracy is: 0.83\n",
      "The precision is: 0.57\n",
      "The recall is: 0.57\n",
      "The F1 score is: 0.57\n"
     ]
    },
    {
     "data": {
      "text/html": [
       "<div>\n",
       "<style scoped>\n",
       "    .dataframe tbody tr th:only-of-type {\n",
       "        vertical-align: middle;\n",
       "    }\n",
       "\n",
       "    .dataframe tbody tr th {\n",
       "        vertical-align: top;\n",
       "    }\n",
       "\n",
       "    .dataframe thead th {\n",
       "        text-align: right;\n",
       "    }\n",
       "</style>\n",
       "<table border=\"1\" class=\"dataframe\">\n",
       "  <thead>\n",
       "    <tr style=\"text-align: right;\">\n",
       "      <th>Predicted</th>\n",
       "      <th>0</th>\n",
       "      <th>1</th>\n",
       "    </tr>\n",
       "    <tr>\n",
       "      <th>Observed</th>\n",
       "      <th></th>\n",
       "      <th></th>\n",
       "    </tr>\n",
       "  </thead>\n",
       "  <tbody>\n",
       "    <tr>\n",
       "      <th>0</th>\n",
       "      <td>0.89</td>\n",
       "      <td>0.11</td>\n",
       "    </tr>\n",
       "    <tr>\n",
       "      <th>1</th>\n",
       "      <td>0.43</td>\n",
       "      <td>0.57</td>\n",
       "    </tr>\n",
       "  </tbody>\n",
       "</table>\n",
       "</div>"
      ],
      "text/plain": [
       "Predicted     0     1\n",
       "Observed             \n",
       "0          0.89  0.11\n",
       "1          0.43  0.57"
      ]
     },
     "execution_count": 25,
     "metadata": {},
     "output_type": "execute_result"
    }
   ],
   "source": [
    "metrics_summary(metrics)\n",
    "confusion_matrix(test_label['label'], prediction['prediction'])"
   ]
  },
  {
   "cell_type": "markdown",
   "metadata": {},
   "source": [
    "## Interpretabilidad del modelo"
   ]
  },
  {
   "cell_type": "code",
   "execution_count": 31,
   "metadata": {},
   "outputs": [
    {
     "data": {
      "text/plain": [
       "0"
      ]
     },
     "execution_count": 31,
     "metadata": {},
     "output_type": "execute_result"
    }
   ],
   "source": [
    "decompress_model(local_dir=f'models/{job_name}/model.tar.gz')"
   ]
  },
  {
   "cell_type": "code",
   "execution_count": 32,
   "metadata": {},
   "outputs": [],
   "source": [
    "model = joblib.load('xgboost-model')"
   ]
  },
  {
   "cell_type": "code",
   "execution_count": 54,
   "metadata": {},
   "outputs": [],
   "source": [
    "features = {\n",
    "    'f0': 'CreditScore',\n",
    "    'f1': 'Age',\n",
    "    'f2': 'Tenure',\n",
    "    'f3': 'Balance',\n",
    "    'f4': 'NumOfProducts',\n",
    "    'f5': 'EstimatedSalary',\n",
    "    'f6': 'Geography_Spain',\n",
    "    'f7': 'Geography_Germany',\n",
    "    'f8': 'Gender_Male',\n",
    "    'f9': 'HasCrCard_False',\n",
    "    'f10': 'IsActiveMember_False'\n",
    "}"
   ]
  },
  {
   "cell_type": "code",
   "execution_count": 70,
   "metadata": {},
   "outputs": [],
   "source": [
    "import numpy as np\n",
    "import matplotlib.pyplot as plt\n",
    "\n",
    "def plot_feature_importance(df: pd.DataFrame, col: str):\n",
    "    \"\"\"\n",
    "    Take a dataframe and graph the barchart of the variable of interest\n",
    "    :param df:\n",
    "    :param col:\n",
    "    :return:\n",
    "    \"\"\"\n",
    "    aux = df[col].sort_values(ascending=True)\n",
    "    bars = tuple(aux.index.tolist())\n",
    "    values = aux.values.tolist()\n",
    "    y_pos = np.arange(len(bars))\n",
    "    colors = ['lightblue'] * len(bars)\n",
    "    colors[-1] = 'blue'\n",
    "    plt.figure(figsize=(10, 8))\n",
    "    plt.barh(y_pos, values, color=colors)\n",
    "    plt.title('XGBoost Feature Importance')\n",
    "    plt.xlabel('relative importance')\n",
    "    plt.yticks(y_pos, bars)\n",
    "    return plt.show()"
   ]
  },
  {
   "cell_type": "code",
   "execution_count": 56,
   "metadata": {},
   "outputs": [
    {
     "data": {
      "text/html": [
       "<div>\n",
       "<style scoped>\n",
       "    .dataframe tbody tr th:only-of-type {\n",
       "        vertical-align: middle;\n",
       "    }\n",
       "\n",
       "    .dataframe tbody tr th {\n",
       "        vertical-align: top;\n",
       "    }\n",
       "\n",
       "    .dataframe thead th {\n",
       "        text-align: right;\n",
       "    }\n",
       "</style>\n",
       "<table border=\"1\" class=\"dataframe\">\n",
       "  <thead>\n",
       "    <tr style=\"text-align: right;\">\n",
       "      <th></th>\n",
       "      <th>fscore</th>\n",
       "    </tr>\n",
       "  </thead>\n",
       "  <tbody>\n",
       "    <tr>\n",
       "      <th>Age</th>\n",
       "      <td>105.556351</td>\n",
       "    </tr>\n",
       "    <tr>\n",
       "      <th>Geography_Germany</th>\n",
       "      <td>44.138304</td>\n",
       "    </tr>\n",
       "    <tr>\n",
       "      <th>Gender_Male</th>\n",
       "      <td>36.578548</td>\n",
       "    </tr>\n",
       "    <tr>\n",
       "      <th>IsActiveMember_False</th>\n",
       "      <td>51.491901</td>\n",
       "    </tr>\n",
       "    <tr>\n",
       "      <th>CreditScore</th>\n",
       "      <td>10.870150</td>\n",
       "    </tr>\n",
       "    <tr>\n",
       "      <th>NumOfProducts</th>\n",
       "      <td>132.805597</td>\n",
       "    </tr>\n",
       "    <tr>\n",
       "      <th>Balance</th>\n",
       "      <td>31.692065</td>\n",
       "    </tr>\n",
       "    <tr>\n",
       "      <th>EstimatedSalary</th>\n",
       "      <td>8.456278</td>\n",
       "    </tr>\n",
       "    <tr>\n",
       "      <th>Tenure</th>\n",
       "      <td>8.352501</td>\n",
       "    </tr>\n",
       "    <tr>\n",
       "      <th>Geography_Spain</th>\n",
       "      <td>19.125022</td>\n",
       "    </tr>\n",
       "  </tbody>\n",
       "</table>\n",
       "</div>"
      ],
      "text/plain": [
       "                          fscore\n",
       "Age                   105.556351\n",
       "Geography_Germany      44.138304\n",
       "Gender_Male            36.578548\n",
       "IsActiveMember_False   51.491901\n",
       "CreditScore            10.870150\n",
       "NumOfProducts         132.805597\n",
       "Balance                31.692065\n",
       "EstimatedSalary         8.456278\n",
       "Tenure                  8.352501\n",
       "Geography_Spain        19.125022"
      ]
     },
     "execution_count": 56,
     "metadata": {},
     "output_type": "execute_result"
    }
   ],
   "source": [
    "importance = model.get_score(importance_type='gain')\n",
    "importance = pd.DataFrame.from_dict({f'{key}': [value] for key, value in importance.items()}).T\n",
    "importance.columns = ['fscore']\n",
    "importance.rename(index=features, inplace=True)\n",
    "importance"
   ]
  },
  {
   "cell_type": "code",
   "execution_count": 71,
   "metadata": {},
   "outputs": [
    {
     "data": {
      "image/png": "[encoded data removed]",
      "text/plain": [
       "<Figure size 720x576 with 1 Axes>"
      ]
     },
     "metadata": {},
     "output_type": "display_data"
    }
   ],
   "source": [
    "plot_feature_importance(df=importance, col='fscore')"
   ]
  },
  {
   "cell_type": "markdown",
   "metadata": {},
   "source": [
    "## Pipeline de inferencia"
   ]
  },
  {
   "cell_type": "code",
   "execution_count": 26,
   "metadata": {},
   "outputs": [],
   "source": [
    "scikit_preprocessor = preprocessor.create_model(env={\"SAGEMAKER_DEFAULT_INVOCATIONS_ACCEPT\": \"text/csv\"})\n",
    "xgboost = xgb.create_model()\n",
    "\n",
    "model_name = 'churn-score-pdn'\n",
    "endpoint_name = 'churn-score-pdn'\n",
    "\n",
    "model = PipelineModel(name=model_name,\n",
    "                      role=role,\n",
    "                      models=[\n",
    "                          scikit_preprocessor,\n",
    "                          xgboost\n",
    "                      ])"
   ]
  },
  {
   "cell_type": "code",
   "execution_count": 27,
   "metadata": {},
   "outputs": [
    {
     "name": "stderr",
     "output_type": "stream",
     "text": [
      "WARNING:sagemaker:Using already existing model: churn-score-pdn\n"
     ]
    },
    {
     "name": "stdout",
     "output_type": "stream",
     "text": [
      "---------------------!"
     ]
    }
   ],
   "source": [
    "model.deploy(initial_instance_count=1, instance_type='ml.t2.medium', endpoint_name=endpoint_name)"
   ]
  },
  {
   "cell_type": "code",
   "execution_count": 28,
   "metadata": {},
   "outputs": [],
   "source": [
    "def calculate_churn_score(data: str):\n",
    "    client = boto3.client('sagemaker-runtime', 'us-east-1')\n",
    "    score_endpoint = 'churn-score-pdn'\n",
    "    response = client.invoke_endpoint(EndpointName=score_endpoint,\n",
    "                                      Body=data,\n",
    "                                      ContentType='text/csv',\n",
    "                                      Accept='text/csv')\n",
    "    score = 1 if float(response['Body'].read().decode('utf-8')) >= 0.5 else 0\n",
    "    return score"
   ]
  },
  {
   "cell_type": "code",
   "execution_count": 29,
   "metadata": {},
   "outputs": [],
   "source": [
    "new_data = '4635;15583353;Floyd;610;Spain;Female;45;3;0.0;1;1;0;38276.84'"
   ]
  },
  {
   "cell_type": "code",
   "execution_count": 30,
   "metadata": {},
   "outputs": [
    {
     "name": "stdout",
     "output_type": "stream",
     "text": [
      "The prediction for new_user is: 1\n",
      "The prediction in seconds is: 0.2564730644226074\n"
     ]
    }
   ],
   "source": [
    "start = time.time()\n",
    "\n",
    "print(f'The prediction for new_user is: {calculate_churn_score(new_data)}')\n",
    "\n",
    "end = time.time() - start\n",
    "\n",
    "print(f'The prediction in seconds is: {end}')"
   ]
  },
  {
   "cell_type": "code",
   "execution_count": null,
   "metadata": {},
   "outputs": [],
   "source": []
  }
 ],
 "metadata": {
  "kernelspec": {
   "display_name": "conda_python3",
   "language": "python",
   "name": "conda_python3"
  },
  "language_info": {
   "codemirror_mode": {
    "name": "ipython",
    "version": 3
   },
   "file_extension": ".py",
   "mimetype": "text/x-python",
   "name": "python",
   "nbconvert_exporter": "python",
   "pygments_lexer": "ipython3",
   "version": "3.6.5"
  }
 },
 "nbformat": 4,
 "nbformat_minor": 4
}
