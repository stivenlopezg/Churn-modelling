{
 "cells": [
  {
   "cell_type": "markdown",
   "metadata": {},
   "source": [
    "## Carga de módulos"
   ]
  },
  {
   "cell_type": "code",
   "execution_count": 1,
   "metadata": {},
   "outputs": [],
   "source": [
    "import os\n",
    "import time\n",
    "import boto3\n",
    "import joblib\n",
    "import warnings\n",
    "import pandas as pd\n",
    "from config import region_name\n",
    "from utilities.sagemaker_functions import create_model, transform, \\\n",
    "                                          download_model, decompress_model, prediction_df\n",
    "from utilities.evaluation import generate_report, confusion_matrix, \\\n",
    "                                 calculate_metrics, metrics_summary\n",
    "\n",
    "\n",
    "import sagemaker\n",
    "from sagemaker.pipeline import PipelineModel\n",
    "from sagemaker.sklearn.estimator import SKLearn\n",
    "from sagemaker import get_execution_role, s3_input\n",
    "from sagemaker.content_types import CONTENT_TYPE_CSV\n",
    "from sagemaker.predictor import RealTimePredictor, csv_serializer, csv_deserializer, \\\n",
    "                                json_serializer, json_deserializer\n",
    "\n",
    "\n",
    "warnings.filterwarnings('ignore')"
   ]
  },
  {
   "cell_type": "code",
   "execution_count": 2,
   "metadata": {},
   "outputs": [],
   "source": [
    "role = get_execution_role()\n",
    "session = sagemaker.Session()"
   ]
  },
  {
   "cell_type": "markdown",
   "metadata": {},
   "source": [
    "Primero vamos a instanciar diferentes variables, por ejemplo, el bucket donde se encuentran los datos alojados para el entrenamiento del XGBoost."
   ]
  },
  {
   "cell_type": "code",
   "execution_count": 3,
   "metadata": {},
   "outputs": [],
   "source": [
    "bucket = 'banking-data'\n",
    "prefix = 'churn-modeling'\n",
    "\n",
    "train_path = f's3://{bucket}/{prefix}/train/train.csv'\n",
    "test_path = f's3://{bucket}/{prefix}/test/test.csv'\n",
    "validation_path = f's3://{bucket}/{prefix}/validation/validation.csv'\n",
    "\n",
    "output_path = f's3://{bucket}/{prefix}/output'"
   ]
  },
  {
   "cell_type": "markdown",
   "metadata": {},
   "source": [
    "### Preprocesamiento (primer contenedor)"
   ]
  },
  {
   "cell_type": "code",
   "execution_count": 4,
   "metadata": {},
   "outputs": [
    {
     "name": "stdout",
     "output_type": "stream",
     "text": [
      "2020-05-07 18:30:48 Starting - Starting the training job...\n",
      "2020-05-07 18:30:50 Starting - Launching requested ML instances......\n",
      "2020-05-07 18:31:54 Starting - Preparing the instances for training...\n",
      "2020-05-07 18:32:45 Downloading - Downloading input data......\n",
      "2020-05-07 18:33:39 Training - Training image download completed. Training in progress.\u001B[34m2020-05-07 18:33:39,954 sagemaker-containers INFO     Imported framework sagemaker_sklearn_container.training\u001B[0m\n",
      "\u001B[34m2020-05-07 18:33:39,956 sagemaker-containers INFO     No GPUs detected (normal if no gpus installed)\u001B[0m\n",
      "\u001B[34m2020-05-07 18:33:39,968 sagemaker_sklearn_container.training INFO     Invoking user training script.\u001B[0m\n",
      "\u001B[34m2020-05-07 18:33:53,921 sagemaker-containers INFO     Module scikit_preprocessing does not provide a setup.py. \u001B[0m\n",
      "\u001B[34mGenerating setup.py\u001B[0m\n",
      "\u001B[34m2020-05-07 18:33:53,921 sagemaker-containers INFO     Generating setup.cfg\u001B[0m\n",
      "\u001B[34m2020-05-07 18:33:53,921 sagemaker-containers INFO     Generating MANIFEST.in\u001B[0m\n",
      "\u001B[34m2020-05-07 18:33:53,922 sagemaker-containers INFO     Installing module with the following command:\u001B[0m\n",
      "\u001B[34m/miniconda3/bin/python -m pip install . \u001B[0m\n",
      "\u001B[34mProcessing /opt/ml/code\u001B[0m\n",
      "\u001B[34mBuilding wheels for collected packages: scikit-preprocessing\n",
      "  Building wheel for scikit-preprocessing (setup.py): started\u001B[0m\n",
      "\u001B[34m  Building wheel for scikit-preprocessing (setup.py): finished with status 'done'\n",
      "  Created wheel for scikit-preprocessing: filename=scikit_preprocessing-1.0.0-py2.py3-none-any.whl size=14797 sha256=b827940ba2a500e4fa21ecb8020c7cba2ba26bf248a86cba2a37477c35a2f0b9\n",
      "  Stored in directory: /tmp/pip-ephem-wheel-cache-t5z31qae/wheels/35/24/16/37574d11bf9bde50616c67372a334f94fa8356bc7164af8ca3\u001B[0m\n",
      "\u001B[34mSuccessfully built scikit-preprocessing\u001B[0m\n",
      "\u001B[34mInstalling collected packages: scikit-preprocessing\u001B[0m\n",
      "\u001B[34mSuccessfully installed scikit-preprocessing-1.0.0\u001B[0m\n",
      "\u001B[34m2020-05-07 18:33:55,623 sagemaker-containers INFO     No GPUs detected (normal if no gpus installed)\u001B[0m\n",
      "\u001B[34m2020-05-07 18:33:55,635 sagemaker-containers INFO     Invoking user script\n",
      "\u001B[0m\n",
      "\u001B[34mTraining Env:\n",
      "\u001B[0m\n",
      "\u001B[34m{\n",
      "    \"additional_framework_parameters\": {},\n",
      "    \"channel_input_dirs\": {\n",
      "        \"train\": \"/opt/ml/input/data/train\"\n",
      "    },\n",
      "    \"current_host\": \"algo-1\",\n",
      "    \"framework_module\": \"sagemaker_sklearn_container.training:main\",\n",
      "    \"hosts\": [\n",
      "        \"algo-1\"\n",
      "    ],\n",
      "    \"hyperparameters\": {},\n",
      "    \"input_config_dir\": \"/opt/ml/input/config\",\n",
      "    \"input_data_config\": {\n",
      "        \"train\": {\n",
      "            \"ContentType\": \"text/csv\",\n",
      "            \"TrainingInputMode\": \"File\",\n",
      "            \"S3DistributionType\": \"FullyReplicated\",\n",
      "            \"RecordWrapperType\": \"None\"\n",
      "        }\n",
      "    },\n",
      "    \"input_dir\": \"/opt/ml/input\",\n",
      "    \"is_master\": true,\n",
      "    \"job_name\": \"scikit-preprocessor\",\n",
      "    \"log_level\": 20,\n",
      "    \"master_hostname\": \"algo-1\",\n",
      "    \"model_dir\": \"/opt/ml/model\",\n",
      "    \"module_dir\": \"s3://sagemaker-us-east-1-512194003765/scikit-preprocessor/source/sourcedir.tar.gz\",\n",
      "    \"module_name\": \"scikit_preprocessing\",\n",
      "    \"network_interface_name\": \"eth0\",\n",
      "    \"num_cpus\": 4,\n",
      "    \"num_gpus\": 0,\n",
      "    \"output_data_dir\": \"/opt/ml/output/data\",\n",
      "    \"output_dir\": \"/opt/ml/output\",\n",
      "    \"output_intermediate_dir\": \"/opt/ml/output/intermediate\",\n",
      "    \"resource_config\": {\n",
      "        \"current_host\": \"algo-1\",\n",
      "        \"hosts\": [\n",
      "            \"algo-1\"\n",
      "        ],\n",
      "        \"network_interface_name\": \"eth0\"\n",
      "    },\n",
      "    \"user_entry_point\": \"scikit_preprocessing.py\"\u001B[0m\n",
      "\u001B[34m}\n",
      "\u001B[0m\n",
      "\u001B[34mEnvironment variables:\n",
      "\u001B[0m\n",
      "\u001B[34mSM_HOSTS=[\"algo-1\"]\u001B[0m\n",
      "\u001B[34mSM_NETWORK_INTERFACE_NAME=eth0\u001B[0m\n",
      "\u001B[34mSM_HPS={}\u001B[0m\n",
      "\u001B[34mSM_USER_ENTRY_POINT=scikit_preprocessing.py\u001B[0m\n",
      "\u001B[34mSM_FRAMEWORK_PARAMS={}\u001B[0m\n",
      "\u001B[34mSM_RESOURCE_CONFIG={\"current_host\":\"algo-1\",\"hosts\":[\"algo-1\"],\"network_interface_name\":\"eth0\"}\u001B[0m\n",
      "\u001B[34mSM_INPUT_DATA_CONFIG={\"train\":{\"ContentType\":\"text/csv\",\"RecordWrapperType\":\"None\",\"S3DistributionType\":\"FullyReplicated\",\"TrainingInputMode\":\"File\"}}\u001B[0m\n",
      "\u001B[34mSM_OUTPUT_DATA_DIR=/opt/ml/output/data\u001B[0m\n",
      "\u001B[34mSM_CHANNELS=[\"train\"]\u001B[0m\n",
      "\u001B[34mSM_CURRENT_HOST=algo-1\u001B[0m\n",
      "\u001B[34mSM_MODULE_NAME=scikit_preprocessing\u001B[0m\n",
      "\u001B[34mSM_LOG_LEVEL=20\u001B[0m\n",
      "\u001B[34mSM_FRAMEWORK_MODULE=sagemaker_sklearn_container.training:main\u001B[0m\n",
      "\u001B[34mSM_INPUT_DIR=/opt/ml/input\u001B[0m\n",
      "\u001B[34mSM_INPUT_CONFIG_DIR=/opt/ml/input/config\u001B[0m\n",
      "\u001B[34mSM_OUTPUT_DIR=/opt/ml/output\u001B[0m\n",
      "\u001B[34mSM_NUM_CPUS=4\u001B[0m\n",
      "\u001B[34mSM_NUM_GPUS=0\u001B[0m\n",
      "\u001B[34mSM_MODEL_DIR=/opt/ml/model\u001B[0m\n",
      "\u001B[34mSM_MODULE_DIR=s3://sagemaker-us-east-1-512194003765/scikit-preprocessor/source/sourcedir.tar.gz\u001B[0m\n",
      "\u001B[34mSM_TRAINING_ENV={\"additional_framework_parameters\":{},\"channel_input_dirs\":{\"train\":\"/opt/ml/input/data/train\"},\"current_host\":\"algo-1\",\"framework_module\":\"sagemaker_sklearn_container.training:main\",\"hosts\":[\"algo-1\"],\"hyperparameters\":{},\"input_config_dir\":\"/opt/ml/input/config\",\"input_data_config\":{\"train\":{\"ContentType\":\"text/csv\",\"RecordWrapperType\":\"None\",\"S3DistributionType\":\"FullyReplicated\",\"TrainingInputMode\":\"File\"}},\"input_dir\":\"/opt/ml/input\",\"is_master\":true,\"job_name\":\"scikit-preprocessor\",\"log_level\":20,\"master_hostname\":\"algo-1\",\"model_dir\":\"/opt/ml/model\",\"module_dir\":\"s3://sagemaker-us-east-1-512194003765/scikit-preprocessor/source/sourcedir.tar.gz\",\"module_name\":\"scikit_preprocessing\",\"network_interface_name\":\"eth0\",\"num_cpus\":4,\"num_gpus\":0,\"output_data_dir\":\"/opt/ml/output/data\",\"output_dir\":\"/opt/ml/output\",\"output_intermediate_dir\":\"/opt/ml/output/intermediate\",\"resource_config\":{\"current_host\":\"algo-1\",\"hosts\":[\"algo-1\"],\"network_interface_name\":\"eth0\"},\"user_entry_point\":\"scikit_preprocessing.py\"}\u001B[0m\n",
      "\u001B[34mSM_USER_ARGS=[]\u001B[0m\n",
      "\u001B[34mSM_OUTPUT_INTERMEDIATE_DIR=/opt/ml/output/intermediate\u001B[0m\n",
      "\u001B[34mSM_CHANNEL_TRAIN=/opt/ml/input/data/train\u001B[0m\n",
      "\u001B[34mPYTHONPATH=/miniconda3/bin:/miniconda3/lib/python37.zip:/miniconda3/lib/python3.7:/miniconda3/lib/python3.7/lib-dynload:/miniconda3/lib/python3.7/site-packages\n",
      "\u001B[0m\n",
      "\u001B[34mInvoking script with the following command:\n",
      "\u001B[0m\n",
      "\u001B[34m/miniconda3/bin/python -m scikit_preprocessing\n",
      "\n",
      "\u001B[0m\n",
      "\u001B[34m/miniconda3/lib/python3.7/site-packages/sklearn/externals/joblib/externals/cloudpickle/cloudpickle.py:47: DeprecationWarning: the imp module is deprecated in favour of importlib; see the module's documentation for alternative uses\n",
      "  import imp\u001B[0m\n",
      "\u001B[34mThe model has been saved!\u001B[0m\n",
      "\u001B[34m2020-05-07 18:33:57,173 sagemaker-containers INFO     Reporting training SUCCESS\u001B[0m\n",
      "\n",
      "2020-05-07 18:34:07 Uploading - Uploading generated training model\n",
      "2020-05-07 18:34:07 Completed - Training job completed\n",
      "Training seconds: 82\n",
      "Billable seconds: 82\n"
     ]
    }
   ],
   "source": [
    "preprocessor = SKLearn(entry_point='scikit_preprocessing.py',\n",
    "                       role=role,\n",
    "                       train_instance_type='ml.m4.xlarge',\n",
    "                       sagemaker_session=session,\n",
    "                       dependencies=['config.py', 'custom_pipeline.py'],\n",
    "                       py_version='py3')\n",
    "\n",
    "preprocessor.fit({'train': s3_input(train_path, content_type='text/csv')}, job_name='scikit-preprocessor')"
   ]
  },
  {
   "cell_type": "code",
   "execution_count": 5,
   "metadata": {},
   "outputs": [
    {
     "name": "stdout",
     "output_type": "stream",
     "text": [
      ".....................\u001B[34mProcessing /opt/ml/code\u001B[0m\n",
      "\u001B[34mBuilding wheels for collected packages: scikit-preprocessing\n",
      "  Building wheel for scikit-preprocessing (setup.py): started\n",
      "  Building wheel for scikit-preprocessing (setup.py): finished with status 'done'\n",
      "  Created wheel for scikit-preprocessing: filename=scikit_preprocessing-1.0.0-py2.py3-none-any.whl size=14801 sha256=5dab848965649d037e65d2f4da45e3048403d97ae3d12eeaea0d7cc524bf65d1\n",
      "  Stored in directory: /tmp/pip-ephem-wheel-cache-p8vngot6/wheels/35/24/16/37574d11bf9bde50616c67372a334f94fa8356bc7164af8ca3\u001B[0m\n",
      "\u001B[34mSuccessfully built scikit-preprocessing\u001B[0m\n",
      "\u001B[34mInstalling collected packages: scikit-preprocessing\u001B[0m\n",
      "\u001B[34mSuccessfully installed scikit-preprocessing-1.0.0\u001B[0m\n",
      "\u001B[34m/miniconda3/lib/python3.7/site-packages/sklearn/externals/joblib/externals/cloudpickle/cloudpickle.py:47: DeprecationWarning: the imp module is deprecated in favour of importlib; see the module's documentation for alternative uses\n",
      "  import imp\u001B[0m\n",
      "\u001B[34m[2020-05-07 18:37:54 +0000] [37] [INFO] Starting gunicorn 19.9.0\u001B[0m\n",
      "\u001B[34m[2020-05-07 18:37:54 +0000] [37] [INFO] Listening at: unix:/tmp/gunicorn.sock (37)\u001B[0m\n",
      "\u001B[34m[2020-05-07 18:37:54 +0000] [37] [INFO] Using worker: gevent\u001B[0m\n",
      "\u001B[34m[2020-05-07 18:37:54 +0000] [40] [INFO] Booting worker with pid: 40\u001B[0m\n",
      "\u001B[34m[2020-05-07 18:37:54 +0000] [44] [INFO] Booting worker with pid: 44\u001B[0m\n",
      "\u001B[34m[2020-05-07 18:37:54 +0000] [45] [INFO] Booting worker with pid: 45\u001B[0m\n",
      "\u001B[34m[2020-05-07 18:37:55 +0000] [49] [INFO] Booting worker with pid: 49\u001B[0m\n",
      "\u001B[34m2020-05-07 18:38:30,933 INFO - sagemaker-containers - No GPUs detected (normal if no gpus installed)\u001B[0m\n",
      "\u001B[34m/miniconda3/lib/python3.7/site-packages/sklearn/externals/joblib/externals/cloudpickle/cloudpickle.py:47: DeprecationWarning: the imp module is deprecated in favour of importlib; see the module's documentation for alternative uses\n",
      "  import imp\u001B[0m\n",
      "\u001B[34m169.254.255.130 - - [07/May/2020:18:38:31 +0000] \"GET /ping HTTP/1.1\" 200 0 \"-\" \"Go-http-client/1.1\"\u001B[0m\n",
      "\u001B[34m2020-05-07 18:38:31,293 INFO - sagemaker-containers - No GPUs detected (normal if no gpus installed)\u001B[0m\n",
      "\u001B[35m2020-05-07 18:38:30,933 INFO - sagemaker-containers - No GPUs detected (normal if no gpus installed)\u001B[0m\n",
      "\u001B[35m/miniconda3/lib/python3.7/site-packages/sklearn/externals/joblib/externals/cloudpickle/cloudpickle.py:47: DeprecationWarning: the imp module is deprecated in favour of importlib; see the module's documentation for alternative uses\n",
      "  import imp\u001B[0m\n",
      "\u001B[35m169.254.255.130 - - [07/May/2020:18:38:31 +0000] \"GET /ping HTTP/1.1\" 200 0 \"-\" \"Go-http-client/1.1\"\u001B[0m\n",
      "\u001B[35m2020-05-07 18:38:31,293 INFO - sagemaker-containers - No GPUs detected (normal if no gpus installed)\u001B[0m\n",
      "\u001B[34m/miniconda3/lib/python3.7/site-packages/sklearn/externals/joblib/externals/cloudpickle/cloudpickle.py:47: DeprecationWarning: the imp module is deprecated in favour of importlib; see the module's documentation for alternative uses\n",
      "  import imp\u001B[0m\n",
      "\u001B[34m169.254.255.130 - - [07/May/2020:18:38:31 +0000] \"GET /execution-parameters HTTP/1.1\" 404 232 \"-\" \"Go-http-client/1.1\"\u001B[0m\n",
      "\u001B[34m2020-05-07 18:38:31,675 INFO - sagemaker-containers - No GPUs detected (normal if no gpus installed)\u001B[0m\n",
      "\u001B[34m/miniconda3/lib/python3.7/site-packages/sklearn/externals/joblib/externals/cloudpickle/cloudpickle.py:47: DeprecationWarning: the imp module is deprecated in favour of importlib; see the module's documentation for alternative uses\n",
      "  import imp\u001B[0m\n",
      "\u001B[34m169.254.255.130 - - [07/May/2020:18:38:32 +0000] \"POST /invocations HTTP/1.1\" 200 419864 \"-\" \"Go-http-client/1.1\"\u001B[0m\n",
      "\u001B[35m/miniconda3/lib/python3.7/site-packages/sklearn/externals/joblib/externals/cloudpickle/cloudpickle.py:47: DeprecationWarning: the imp module is deprecated in favour of importlib; see the module's documentation for alternative uses\n",
      "  import imp\u001B[0m\n",
      "\u001B[35m169.254.255.130 - - [07/May/2020:18:38:31 +0000] \"GET /execution-parameters HTTP/1.1\" 404 232 \"-\" \"Go-http-client/1.1\"\u001B[0m\n",
      "\u001B[35m2020-05-07 18:38:31,675 INFO - sagemaker-containers - No GPUs detected (normal if no gpus installed)\u001B[0m\n",
      "\u001B[35m/miniconda3/lib/python3.7/site-packages/sklearn/externals/joblib/externals/cloudpickle/cloudpickle.py:47: DeprecationWarning: the imp module is deprecated in favour of importlib; see the module's documentation for alternative uses\n",
      "  import imp\u001B[0m\n",
      "\u001B[35m169.254.255.130 - - [07/May/2020:18:38:32 +0000] \"POST /invocations HTTP/1.1\" 200 419864 \"-\" \"Go-http-client/1.1\"\u001B[0m\n",
      "\u001B[32m2020-05-07T18:38:31.621:[sagemaker logs]: MaxConcurrentTransforms=1, MaxPayloadInMB=100, BatchStrategy=MULTI_RECORD\u001B[0m\n",
      "\n"
     ]
    }
   ],
   "source": [
    "transform(preprocessor, data=train_path, output_path=output_path, instance_type='ml.m4.xlarge')"
   ]
  },
  {
   "cell_type": "code",
   "execution_count": 6,
   "metadata": {},
   "outputs": [
    {
     "name": "stderr",
     "output_type": "stream",
     "text": [
      "Using already existing model: scikit-preprocessor\n"
     ]
    },
    {
     "name": "stdout",
     "output_type": "stream",
     "text": [
      "........................\u001B[34mProcessing /opt/ml/code\u001B[0m\n",
      "\u001B[34mBuilding wheels for collected packages: scikit-preprocessing\n",
      "  Building wheel for scikit-preprocessing (setup.py): started\u001B[0m\n",
      "\u001B[34m  Building wheel for scikit-preprocessing (setup.py): finished with status 'done'\n",
      "  Created wheel for scikit-preprocessing: filename=scikit_preprocessing-1.0.0-py2.py3-none-any.whl size=14798 sha256=c76e5a26ed7044cc2ecd46bc9aa576312ace808297919f5790c50365e773e415\n",
      "  Stored in directory: /tmp/pip-ephem-wheel-cache-3xmnwvbd/wheels/35/24/16/37574d11bf9bde50616c67372a334f94fa8356bc7164af8ca3\u001B[0m\n",
      "\u001B[34mSuccessfully built scikit-preprocessing\u001B[0m\n",
      "\u001B[34mInstalling collected packages: scikit-preprocessing\u001B[0m\n",
      "\u001B[34mSuccessfully installed scikit-preprocessing-1.0.0\u001B[0m\n",
      "\u001B[34m/miniconda3/lib/python3.7/site-packages/sklearn/externals/joblib/externals/cloudpickle/cloudpickle.py:47: DeprecationWarning: the imp module is deprecated in favour of importlib; see the module's documentation for alternative uses\n",
      "  import imp\u001B[0m\n",
      "\u001B[34m[2020-05-07 18:43:08 +0000] [38] [INFO] Starting gunicorn 19.9.0\u001B[0m\n",
      "\u001B[34m[2020-05-07 18:43:08 +0000] [38] [INFO] Listening at: unix:/tmp/gunicorn.sock (38)\u001B[0m\n",
      "\u001B[34m[2020-05-07 18:43:08 +0000] [38] [INFO] Using worker: gevent\u001B[0m\n",
      "\u001B[34m[2020-05-07 18:43:08 +0000] [41] [INFO] Booting worker with pid: 41\u001B[0m\n",
      "\u001B[34m[2020-05-07 18:43:08 +0000] [42] [INFO] Booting worker with pid: 42\u001B[0m\n",
      "\u001B[34m[2020-05-07 18:43:08 +0000] [43] [INFO] Booting worker with pid: 43\u001B[0m\n",
      "\u001B[34m[2020-05-07 18:43:08 +0000] [44] [INFO] Booting worker with pid: 44\u001B[0m\n",
      "\n",
      "\u001B[34m2020-05-07 18:43:41,715 INFO - sagemaker-containers - No GPUs detected (normal if no gpus installed)\u001B[0m\n",
      "\u001B[34m/miniconda3/lib/python3.7/site-packages/sklearn/externals/joblib/externals/cloudpickle/cloudpickle.py:47: DeprecationWarning: the imp module is deprecated in favour of importlib; see the module's documentation for alternative uses\n",
      "  import imp\u001B[0m\n",
      "\u001B[34m169.254.255.130 - - [07/May/2020:18:43:42 +0000] \"GET /ping HTTP/1.1\" 200 0 \"-\" \"Go-http-client/1.1\"\u001B[0m\n",
      "\u001B[34m2020-05-07 18:43:42,060 INFO - sagemaker-containers - No GPUs detected (normal if no gpus installed)\u001B[0m\n",
      "\u001B[35m2020-05-07 18:43:41,715 INFO - sagemaker-containers - No GPUs detected (normal if no gpus installed)\u001B[0m\n",
      "\u001B[35m/miniconda3/lib/python3.7/site-packages/sklearn/externals/joblib/externals/cloudpickle/cloudpickle.py:47: DeprecationWarning: the imp module is deprecated in favour of importlib; see the module's documentation for alternative uses\n",
      "  import imp\u001B[0m\n",
      "\u001B[35m169.254.255.130 - - [07/May/2020:18:43:42 +0000] \"GET /ping HTTP/1.1\" 200 0 \"-\" \"Go-http-client/1.1\"\u001B[0m\n",
      "\u001B[35m2020-05-07 18:43:42,060 INFO - sagemaker-containers - No GPUs detected (normal if no gpus installed)\u001B[0m\n",
      "\u001B[34m/miniconda3/lib/python3.7/site-packages/sklearn/externals/joblib/externals/cloudpickle/cloudpickle.py:47: DeprecationWarning: the imp module is deprecated in favour of importlib; see the module's documentation for alternative uses\n",
      "  import imp\u001B[0m\n",
      "\u001B[34m169.254.255.130 - - [07/May/2020:18:43:42 +0000] \"GET /execution-parameters HTTP/1.1\" 404 232 \"-\" \"Go-http-client/1.1\"\u001B[0m\n",
      "\u001B[34m169.254.255.130 - - [07/May/2020:18:43:42 +0000] \"POST /invocations HTTP/1.1\" 200 108170 \"-\" \"Go-http-client/1.1\"\u001B[0m\n",
      "\u001B[35m/miniconda3/lib/python3.7/site-packages/sklearn/externals/joblib/externals/cloudpickle/cloudpickle.py:47: DeprecationWarning: the imp module is deprecated in favour of importlib; see the module's documentation for alternative uses\n",
      "  import imp\u001B[0m\n",
      "\u001B[35m169.254.255.130 - - [07/May/2020:18:43:42 +0000] \"GET /execution-parameters HTTP/1.1\" 404 232 \"-\" \"Go-http-client/1.1\"\u001B[0m\n",
      "\u001B[35m169.254.255.130 - - [07/May/2020:18:43:42 +0000] \"POST /invocations HTTP/1.1\" 200 108170 \"-\" \"Go-http-client/1.1\"\u001B[0m\n",
      "\u001B[32m2020-05-07T18:43:42.407:[sagemaker logs]: MaxConcurrentTransforms=1, MaxPayloadInMB=100, BatchStrategy=MULTI_RECORD\u001B[0m\n"
     ]
    }
   ],
   "source": [
    "transform(preprocessor, data=validation_path, output_path=output_path, instance_type='ml.m4.xlarge')"
   ]
  },
  {
   "cell_type": "code",
   "execution_count": 7,
   "metadata": {},
   "outputs": [
    {
     "name": "stderr",
     "output_type": "stream",
     "text": [
      "Using already existing model: scikit-preprocessor\n"
     ]
    },
    {
     "name": "stdout",
     "output_type": "stream",
     "text": [
      ".....................\u001B[34mProcessing /opt/ml/code\u001B[0m\n",
      "\u001B[34mBuilding wheels for collected packages: scikit-preprocessing\n",
      "  Building wheel for scikit-preprocessing (setup.py): started\u001B[0m\n",
      "\u001B[34m  Building wheel for scikit-preprocessing (setup.py): finished with status 'done'\n",
      "  Created wheel for scikit-preprocessing: filename=scikit_preprocessing-1.0.0-py2.py3-none-any.whl size=14802 sha256=f862b094e3c198095c016d3b66aa8e1ffe22c2d36ed7408a4fdf95a3ba539028\n",
      "  Stored in directory: /tmp/pip-ephem-wheel-cache-o5he7xov/wheels/35/24/16/37574d11bf9bde50616c67372a334f94fa8356bc7164af8ca3\u001B[0m\n",
      "\u001B[34mSuccessfully built scikit-preprocessing\u001B[0m\n",
      "\u001B[34mInstalling collected packages: scikit-preprocessing\u001B[0m\n",
      "\u001B[34mSuccessfully installed scikit-preprocessing-1.0.0\u001B[0m\n",
      "\u001B[34m/miniconda3/lib/python3.7/site-packages/sklearn/externals/joblib/externals/cloudpickle/cloudpickle.py:47: DeprecationWarning: the imp module is deprecated in favour of importlib; see the module's documentation for alternative uses\n",
      "  import imp\u001B[0m\n",
      "\u001B[34m[2020-05-07 18:47:15 +0000] [38] [INFO] Starting gunicorn 19.9.0\u001B[0m\n",
      "\u001B[34m[2020-05-07 18:47:15 +0000] [38] [INFO] Listening at: unix:/tmp/gunicorn.sock (38)\u001B[0m\n",
      "\u001B[34m[2020-05-07 18:47:15 +0000] [38] [INFO] Using worker: gevent\u001B[0m\n",
      "\u001B[34m[2020-05-07 18:47:15 +0000] [41] [INFO] Booting worker with pid: 41\u001B[0m\n",
      "\u001B[34m[2020-05-07 18:47:15 +0000] [45] [INFO] Booting worker with pid: 45\u001B[0m\n",
      "\u001B[34m[2020-05-07 18:47:15 +0000] [46] [INFO] Booting worker with pid: 46\u001B[0m\n",
      "\u001B[34m[2020-05-07 18:47:15 +0000] [47] [INFO] Booting worker with pid: 47\u001B[0m\n",
      "\n",
      "\u001B[34m2020-05-07 18:47:43,792 INFO - sagemaker-containers - No GPUs detected (normal if no gpus installed)\u001B[0m\n",
      "\u001B[34m/miniconda3/lib/python3.7/site-packages/sklearn/externals/joblib/externals/cloudpickle/cloudpickle.py:47: DeprecationWarning: the imp module is deprecated in favour of importlib; see the module's documentation for alternative uses\n",
      "  import imp\u001B[0m\n",
      "\u001B[34m169.254.255.130 - - [07/May/2020:18:47:44 +0000] \"GET /ping HTTP/1.1\" 200 0 \"-\" \"Go-http-client/1.1\"\u001B[0m\n",
      "\u001B[34m2020-05-07 18:47:44,125 INFO - sagemaker-containers - No GPUs detected (normal if no gpus installed)\u001B[0m\n",
      "\u001B[35m2020-05-07 18:47:43,792 INFO - sagemaker-containers - No GPUs detected (normal if no gpus installed)\u001B[0m\n",
      "\u001B[35m/miniconda3/lib/python3.7/site-packages/sklearn/externals/joblib/externals/cloudpickle/cloudpickle.py:47: DeprecationWarning: the imp module is deprecated in favour of importlib; see the module's documentation for alternative uses\n",
      "  import imp\u001B[0m\n",
      "\u001B[35m169.254.255.130 - - [07/May/2020:18:47:44 +0000] \"GET /ping HTTP/1.1\" 200 0 \"-\" \"Go-http-client/1.1\"\u001B[0m\n",
      "\u001B[35m2020-05-07 18:47:44,125 INFO - sagemaker-containers - No GPUs detected (normal if no gpus installed)\u001B[0m\n",
      "\u001B[34m/miniconda3/lib/python3.7/site-packages/sklearn/externals/joblib/externals/cloudpickle/cloudpickle.py:47: DeprecationWarning: the imp module is deprecated in favour of importlib; see the module's documentation for alternative uses\n",
      "  import imp\u001B[0m\n",
      "\u001B[34m169.254.255.130 - - [07/May/2020:18:47:44 +0000] \"GET /execution-parameters HTTP/1.1\" 404 232 \"-\" \"Go-http-client/1.1\"\u001B[0m\n",
      "\u001B[34m169.254.255.130 - - [07/May/2020:18:47:44 +0000] \"POST /invocations HTTP/1.1\" 200 67141 \"-\" \"Go-http-client/1.1\"\u001B[0m\n",
      "\u001B[35m/miniconda3/lib/python3.7/site-packages/sklearn/externals/joblib/externals/cloudpickle/cloudpickle.py:47: DeprecationWarning: the imp module is deprecated in favour of importlib; see the module's documentation for alternative uses\n",
      "  import imp\u001B[0m\n",
      "\u001B[35m169.254.255.130 - - [07/May/2020:18:47:44 +0000] \"GET /execution-parameters HTTP/1.1\" 404 232 \"-\" \"Go-http-client/1.1\"\u001B[0m\n",
      "\u001B[35m169.254.255.130 - - [07/May/2020:18:47:44 +0000] \"POST /invocations HTTP/1.1\" 200 67141 \"-\" \"Go-http-client/1.1\"\u001B[0m\n",
      "\u001B[32m2020-05-07T18:47:44.433:[sagemaker logs]: MaxConcurrentTransforms=1, MaxPayloadInMB=100, BatchStrategy=MULTI_RECORD\u001B[0m\n"
     ]
    }
   ],
   "source": [
    "transform(preprocessor, data=test_path, output_path=output_path, instance_type='ml.m4.xlarge')"
   ]
  },
  {
   "cell_type": "code",
   "execution_count": 8,
   "metadata": {},
   "outputs": [
    {
     "name": "stdout",
     "output_type": "stream",
     "text": [
      "2020-05-07 18:48:10 Starting - Starting the training job...\n",
      "2020-05-07 18:48:12 Starting - Launching requested ML instances......\n",
      "2020-05-07 18:49:19 Starting - Preparing the instances for training......\n",
      "2020-05-07 18:50:26 Downloading - Downloading input data...\n",
      "2020-05-07 18:51:02 Training - Downloading the training image...\n",
      "2020-05-07 18:51:34 Uploading - Uploading generated training model\n",
      "2020-05-07 18:51:34 Completed - Training job completed\n",
      "\u001B[34mINFO:sagemaker-containers:Imported framework sagemaker_xgboost_container.training\u001B[0m\n",
      "\u001B[34mINFO:sagemaker-containers:Failed to parse hyperparameter objective value binary:logistic to Json.\u001B[0m\n",
      "\u001B[34mReturning the value itself\u001B[0m\n",
      "\u001B[34mINFO:sagemaker-containers:No GPUs detected (normal if no gpus installed)\u001B[0m\n",
      "\u001B[34mINFO:sagemaker_xgboost_container.training:Running XGBoost Sagemaker in algorithm mode\u001B[0m\n",
      "\u001B[34mINFO:root:Determined delimiter of CSV input is ','\u001B[0m\n",
      "\u001B[34mINFO:root:Determined delimiter of CSV input is ','\u001B[0m\n",
      "\u001B[34mINFO:root:Determined delimiter of CSV input is ','\u001B[0m\n",
      "\u001B[34m[18:51:24] 7000x11 matrix with 77000 entries loaded from /opt/ml/input/data/train?format=csv&label_column=0&delimiter=,\u001B[0m\n",
      "\u001B[34mINFO:root:Determined delimiter of CSV input is ','\u001B[0m\n",
      "\u001B[34m[18:51:24] 1800x11 matrix with 19800 entries loaded from /opt/ml/input/data/validation?format=csv&label_column=0&delimiter=,\u001B[0m\n",
      "\u001B[34mINFO:root:Single node training.\u001B[0m\n",
      "\u001B[34mINFO:root:Train matrix has 7000 rows\u001B[0m\n",
      "\u001B[34mINFO:root:Validation matrix has 1800 rows\u001B[0m\n",
      "\u001B[34m[0]#011train-error:0.310714#011validation-error:0.302778\u001B[0m\n",
      "\u001B[34m[1]#011train-error:0.252429#011validation-error:0.244444\u001B[0m\n",
      "\u001B[34m[2]#011train-error:0.250714#011validation-error:0.239444\u001B[0m\n",
      "\u001B[34m[3]#011train-error:0.237286#011validation-error:0.224444\u001B[0m\n",
      "\u001B[34m[4]#011train-error:0.217143#011validation-error:0.198889\u001B[0m\n",
      "\u001B[34m[5]#011train-error:0.208286#011validation-error:0.190556\u001B[0m\n",
      "\u001B[34m[6]#011train-error:0.220714#011validation-error:0.206667\u001B[0m\n",
      "\u001B[34m[7]#011train-error:0.219#011validation-error:0.207222\u001B[0m\n",
      "\u001B[34m[8]#011train-error:0.216#011validation-error:0.205556\u001B[0m\n",
      "\u001B[34m[9]#011train-error:0.213286#011validation-error:0.206667\u001B[0m\n",
      "\u001B[34m[10]#011train-error:0.212429#011validation-error:0.203889\u001B[0m\n",
      "\u001B[34m[11]#011train-error:0.207857#011validation-error:0.201667\u001B[0m\n",
      "\u001B[34m[12]#011train-error:0.211857#011validation-error:0.205\u001B[0m\n",
      "\u001B[34m[13]#011train-error:0.211714#011validation-error:0.204444\u001B[0m\n",
      "\u001B[34m[14]#011train-error:0.211429#011validation-error:0.211111\u001B[0m\n",
      "\u001B[34m[15]#011train-error:0.210857#011validation-error:0.213889\u001B[0m\n",
      "Training seconds: 68\n",
      "Billable seconds: 24\n",
      "Managed Spot Training savings: 64.7%\n"
     ]
    }
   ],
   "source": [
    "hyperparams = {\n",
    "    'objective': 'binary:logistic',\n",
    "    'early_stopping_rounds': 10,\n",
    "    'num_round': 200,\n",
    "    'max_depth': 3,\n",
    "    'subsample': 0.8,\n",
    "    'colsample_bytree': 0.8,\n",
    "    'scale_pos_weight': 4\n",
    "}\n",
    "\n",
    "job_name = 'xgboost'\n",
    "xgb = create_model(image='xgboost', role=role, hyperparameters=hyperparams,\n",
    "                   instance_type='ml.m4.xlarge', output_path=output_path,\n",
    "                   region_name=region_name, s3_train=f'{output_path}/train.csv.out',\n",
    "                   s3_validation=f'{output_path}/validation.csv.out', job_name=job_name)"
   ]
  },
  {
   "cell_type": "markdown",
   "metadata": {},
   "source": [
    "## Evaluación del modelo"
   ]
  },
  {
   "cell_type": "code",
   "execution_count": 9,
   "metadata": {},
   "outputs": [],
   "source": [
    "test_label = pd.read_csv(f's3://{bucket}/{prefix}/test/test_label.csv', sep=';', names=['label'])"
   ]
  },
  {
   "cell_type": "code",
   "execution_count": 10,
   "metadata": {},
   "outputs": [
    {
     "data": {
      "text/plain": [
       "0"
      ]
     },
     "execution_count": 10,
     "metadata": {},
     "output_type": "execute_result"
    }
   ],
   "source": [
    "download_model(model_path=f'{output_path}/{job_name}/output/model.tar.gz',\n",
    "               local_dir=f'model/{job_name}/model.tar.gz')\n",
    "decompress_model(local_dir=f'model/{job_name}/model.tar.gz')"
   ]
  },
  {
   "cell_type": "code",
   "execution_count": 11,
   "metadata": {},
   "outputs": [],
   "source": [
    "model = joblib.load('xgboost-model')\n",
    "prediction = prediction_df(model, file_path=f'{output_path}/test.csv.out', score=0.6)\n",
    "metrics = calculate_metrics(test_label['label'], prediction['prediction'])"
   ]
  },
  {
   "cell_type": "code",
   "execution_count": 12,
   "metadata": {},
   "outputs": [
    {
     "data": {
      "text/html": [
       "<div>\n",
       "<style scoped>\n",
       "    .dataframe tbody tr th:only-of-type {\n",
       "        vertical-align: middle;\n",
       "    }\n",
       "\n",
       "    .dataframe tbody tr th {\n",
       "        vertical-align: top;\n",
       "    }\n",
       "\n",
       "    .dataframe thead th {\n",
       "        text-align: right;\n",
       "    }\n",
       "</style>\n",
       "<table border=\"1\" class=\"dataframe\">\n",
       "  <thead>\n",
       "    <tr style=\"text-align: right;\">\n",
       "      <th></th>\n",
       "      <th>f1-score</th>\n",
       "      <th>precision</th>\n",
       "      <th>recall</th>\n",
       "      <th>support</th>\n",
       "    </tr>\n",
       "  </thead>\n",
       "  <tbody>\n",
       "    <tr>\n",
       "      <th>0</th>\n",
       "      <td>0.90</td>\n",
       "      <td>0.91</td>\n",
       "      <td>0.89</td>\n",
       "      <td>956.0</td>\n",
       "    </tr>\n",
       "    <tr>\n",
       "      <th>1</th>\n",
       "      <td>0.64</td>\n",
       "      <td>0.61</td>\n",
       "      <td>0.68</td>\n",
       "      <td>244.0</td>\n",
       "    </tr>\n",
       "    <tr>\n",
       "      <th>micro avg</th>\n",
       "      <td>0.85</td>\n",
       "      <td>0.85</td>\n",
       "      <td>0.85</td>\n",
       "      <td>1200.0</td>\n",
       "    </tr>\n",
       "    <tr>\n",
       "      <th>macro avg</th>\n",
       "      <td>0.77</td>\n",
       "      <td>0.76</td>\n",
       "      <td>0.78</td>\n",
       "      <td>1200.0</td>\n",
       "    </tr>\n",
       "    <tr>\n",
       "      <th>weighted avg</th>\n",
       "      <td>0.85</td>\n",
       "      <td>0.85</td>\n",
       "      <td>0.85</td>\n",
       "      <td>1200.0</td>\n",
       "    </tr>\n",
       "  </tbody>\n",
       "</table>\n",
       "</div>"
      ],
      "text/plain": [
       "              f1-score  precision  recall  support\n",
       "0                 0.90       0.91    0.89    956.0\n",
       "1                 0.64       0.61    0.68    244.0\n",
       "micro avg         0.85       0.85    0.85   1200.0\n",
       "macro avg         0.77       0.76    0.78   1200.0\n",
       "weighted avg      0.85       0.85    0.85   1200.0"
      ]
     },
     "execution_count": 12,
     "metadata": {},
     "output_type": "execute_result"
    }
   ],
   "source": [
    "generate_report(test_label['label'], prediction['prediction'])"
   ]
  },
  {
   "cell_type": "code",
   "execution_count": 13,
   "metadata": {},
   "outputs": [
    {
     "name": "stdout",
     "output_type": "stream",
     "text": [
      "The AUC is: 0.78\n",
      "The accuracy is: 0.85\n",
      "The precision is: 0.61\n",
      "The recall is: 0.68\n",
      "The F1 score is: 0.64\n"
     ]
    },
    {
     "data": {
      "text/html": [
       "<div>\n",
       "<style scoped>\n",
       "    .dataframe tbody tr th:only-of-type {\n",
       "        vertical-align: middle;\n",
       "    }\n",
       "\n",
       "    .dataframe tbody tr th {\n",
       "        vertical-align: top;\n",
       "    }\n",
       "\n",
       "    .dataframe thead th {\n",
       "        text-align: right;\n",
       "    }\n",
       "</style>\n",
       "<table border=\"1\" class=\"dataframe\">\n",
       "  <thead>\n",
       "    <tr style=\"text-align: right;\">\n",
       "      <th>Predicted</th>\n",
       "      <th>0</th>\n",
       "      <th>1</th>\n",
       "    </tr>\n",
       "    <tr>\n",
       "      <th>Observed</th>\n",
       "      <th></th>\n",
       "      <th></th>\n",
       "    </tr>\n",
       "  </thead>\n",
       "  <tbody>\n",
       "    <tr>\n",
       "      <th>0</th>\n",
       "      <td>0.89</td>\n",
       "      <td>0.11</td>\n",
       "    </tr>\n",
       "    <tr>\n",
       "      <th>1</th>\n",
       "      <td>0.32</td>\n",
       "      <td>0.68</td>\n",
       "    </tr>\n",
       "  </tbody>\n",
       "</table>\n",
       "</div>"
      ],
      "text/plain": [
       "Predicted     0     1\n",
       "Observed             \n",
       "0          0.89  0.11\n",
       "1          0.32  0.68"
      ]
     },
     "execution_count": 13,
     "metadata": {},
     "output_type": "execute_result"
    }
   ],
   "source": [
    "metrics_summary(metrics)\n",
    "confusion_matrix(test_label['label'], prediction['prediction'])"
   ]
  },
  {
   "cell_type": "code",
   "execution_count": 14,
   "metadata": {},
   "outputs": [],
   "source": [
    "scikit_preprocessor = preprocessor.create_model(env={\"SAGEMAKER_DEFAULT_INVOCATIONS_ACCEPT\": \"text/csv\"})\n",
    "xgboost = xgb.create_model()\n",
    "\n",
    "model_name = 'churn-score'\n",
    "endpoint_name = 'churn-score'\n",
    "\n",
    "model = PipelineModel(name=model_name,\n",
    "                      role=role,\n",
    "                      models=[\n",
    "                          scikit_preprocessor,\n",
    "                          xgboost\n",
    "                      ])"
   ]
  },
  {
   "cell_type": "code",
   "execution_count": 16,
   "metadata": {},
   "outputs": [
    {
     "name": "stderr",
     "output_type": "stream",
     "text": [
      "Using already existing model: churn-score\n"
     ]
    },
    {
     "name": "stdout",
     "output_type": "stream",
     "text": [
      "-----------------!"
     ]
    }
   ],
   "source": [
    "model.deploy(initial_instance_count=1, instance_type='ml.t2.medium', endpoint_name=endpoint_name)"
   ]
  },
  {
   "cell_type": "code",
   "execution_count": 17,
   "metadata": {},
   "outputs": [],
   "source": [
    "def calculate_churn_score(data: str):\n",
    "    client = boto3.client('sagemaker-runtime', 'us-east-1')\n",
    "    score_endpoint = 'churn-score'\n",
    "    response = client.invoke_endpoint(EndpointName=score_endpoint,\n",
    "                                      Body=data,\n",
    "                                      ContentType='text/csv',\n",
    "                                      Accept='text/csv')\n",
    "    score = round(float(response['Body'].read()), 4) * 100\n",
    "    return score"
   ]
  },
  {
   "cell_type": "code",
   "execution_count": 18,
   "metadata": {},
   "outputs": [],
   "source": [
    "new_data = '3799;15621834;Game;700;Spain;Female;43;0;0.0;2;1;0;59475.35;0'"
   ]
  },
  {
   "cell_type": "code",
   "execution_count": 19,
   "metadata": {},
   "outputs": [
    {
     "ename": "ModelError",
     "evalue": "An error occurred (ModelError) when calling the InvokeEndpoint operation: Received client error (400) from container-2 with message \"Unable to evaluate payload provided: Feature size of csv inference data 12 is not consistent with feature size of trained model 11.\". See https://us-east-1.console.aws.amazon.com/cloudwatch/home?region=us-east-1#logEventViewer:group=/aws/sagemaker/Endpoints/churn-score in account 512194003765 for more information.",
     "output_type": "error",
     "traceback": [
      "\u001B[0;31m---------------------------------------------------------------------------\u001B[0m",
      "\u001B[0;31mModelError\u001B[0m                                Traceback (most recent call last)",
      "\u001B[0;32m<ipython-input-19-8c97e24a73c6>\u001B[0m in \u001B[0;36m<module>\u001B[0;34m()\u001B[0m\n\u001B[0;32m----> 1\u001B[0;31m \u001B[0mcalculate_churn_score\u001B[0m\u001B[0;34m(\u001B[0m\u001B[0mnew_data\u001B[0m\u001B[0;34m)\u001B[0m\u001B[0;34m\u001B[0m\u001B[0m\n\u001B[0m",
      "\u001B[0;32m<ipython-input-17-979911770fde>\u001B[0m in \u001B[0;36mcalculate_churn_score\u001B[0;34m(data)\u001B[0m\n\u001B[1;32m      5\u001B[0m                                       \u001B[0mBody\u001B[0m\u001B[0;34m=\u001B[0m\u001B[0mdata\u001B[0m\u001B[0;34m,\u001B[0m\u001B[0;34m\u001B[0m\u001B[0m\n\u001B[1;32m      6\u001B[0m                                       \u001B[0mContentType\u001B[0m\u001B[0;34m=\u001B[0m\u001B[0;34m'text/csv'\u001B[0m\u001B[0;34m,\u001B[0m\u001B[0;34m\u001B[0m\u001B[0m\n\u001B[0;32m----> 7\u001B[0;31m                                       Accept='text/csv')\n\u001B[0m\u001B[1;32m      8\u001B[0m     \u001B[0mscore\u001B[0m \u001B[0;34m=\u001B[0m \u001B[0mround\u001B[0m\u001B[0;34m(\u001B[0m\u001B[0mfloat\u001B[0m\u001B[0;34m(\u001B[0m\u001B[0mresponse\u001B[0m\u001B[0;34m[\u001B[0m\u001B[0;34m'Body'\u001B[0m\u001B[0;34m]\u001B[0m\u001B[0;34m.\u001B[0m\u001B[0mread\u001B[0m\u001B[0;34m(\u001B[0m\u001B[0;34m)\u001B[0m\u001B[0;34m)\u001B[0m\u001B[0;34m,\u001B[0m \u001B[0;36m4\u001B[0m\u001B[0;34m)\u001B[0m \u001B[0;34m*\u001B[0m \u001B[0;36m100\u001B[0m\u001B[0;34m\u001B[0m\u001B[0m\n\u001B[1;32m      9\u001B[0m     \u001B[0;32mreturn\u001B[0m \u001B[0mscore\u001B[0m\u001B[0;34m\u001B[0m\u001B[0m\n",
      "\u001B[0;32m~/anaconda3/envs/python3/lib/python3.6/site-packages/botocore/client.py\u001B[0m in \u001B[0;36m_api_call\u001B[0;34m(self, *args, **kwargs)\u001B[0m\n\u001B[1;32m    314\u001B[0m                     \"%s() only accepts keyword arguments.\" % py_operation_name)\n\u001B[1;32m    315\u001B[0m             \u001B[0;31m# The \"self\" in this scope is referring to the BaseClient.\u001B[0m\u001B[0;34m\u001B[0m\u001B[0;34m\u001B[0m\u001B[0m\n\u001B[0;32m--> 316\u001B[0;31m             \u001B[0;32mreturn\u001B[0m \u001B[0mself\u001B[0m\u001B[0;34m.\u001B[0m\u001B[0m_make_api_call\u001B[0m\u001B[0;34m(\u001B[0m\u001B[0moperation_name\u001B[0m\u001B[0;34m,\u001B[0m \u001B[0mkwargs\u001B[0m\u001B[0;34m)\u001B[0m\u001B[0;34m\u001B[0m\u001B[0m\n\u001B[0m\u001B[1;32m    317\u001B[0m \u001B[0;34m\u001B[0m\u001B[0m\n\u001B[1;32m    318\u001B[0m         \u001B[0m_api_call\u001B[0m\u001B[0;34m.\u001B[0m\u001B[0m__name__\u001B[0m \u001B[0;34m=\u001B[0m \u001B[0mstr\u001B[0m\u001B[0;34m(\u001B[0m\u001B[0mpy_operation_name\u001B[0m\u001B[0;34m)\u001B[0m\u001B[0;34m\u001B[0m\u001B[0m\n",
      "\u001B[0;32m~/anaconda3/envs/python3/lib/python3.6/site-packages/botocore/client.py\u001B[0m in \u001B[0;36m_make_api_call\u001B[0;34m(self, operation_name, api_params)\u001B[0m\n\u001B[1;32m    624\u001B[0m             \u001B[0merror_code\u001B[0m \u001B[0;34m=\u001B[0m \u001B[0mparsed_response\u001B[0m\u001B[0;34m.\u001B[0m\u001B[0mget\u001B[0m\u001B[0;34m(\u001B[0m\u001B[0;34m\"Error\"\u001B[0m\u001B[0;34m,\u001B[0m \u001B[0;34m{\u001B[0m\u001B[0;34m}\u001B[0m\u001B[0;34m)\u001B[0m\u001B[0;34m.\u001B[0m\u001B[0mget\u001B[0m\u001B[0;34m(\u001B[0m\u001B[0;34m\"Code\"\u001B[0m\u001B[0;34m)\u001B[0m\u001B[0;34m\u001B[0m\u001B[0m\n\u001B[1;32m    625\u001B[0m             \u001B[0merror_class\u001B[0m \u001B[0;34m=\u001B[0m \u001B[0mself\u001B[0m\u001B[0;34m.\u001B[0m\u001B[0mexceptions\u001B[0m\u001B[0;34m.\u001B[0m\u001B[0mfrom_code\u001B[0m\u001B[0;34m(\u001B[0m\u001B[0merror_code\u001B[0m\u001B[0;34m)\u001B[0m\u001B[0;34m\u001B[0m\u001B[0m\n\u001B[0;32m--> 626\u001B[0;31m             \u001B[0;32mraise\u001B[0m \u001B[0merror_class\u001B[0m\u001B[0;34m(\u001B[0m\u001B[0mparsed_response\u001B[0m\u001B[0;34m,\u001B[0m \u001B[0moperation_name\u001B[0m\u001B[0;34m)\u001B[0m\u001B[0;34m\u001B[0m\u001B[0m\n\u001B[0m\u001B[1;32m    627\u001B[0m         \u001B[0;32melse\u001B[0m\u001B[0;34m:\u001B[0m\u001B[0;34m\u001B[0m\u001B[0m\n\u001B[1;32m    628\u001B[0m             \u001B[0;32mreturn\u001B[0m \u001B[0mparsed_response\u001B[0m\u001B[0;34m\u001B[0m\u001B[0m\n",
      "\u001B[0;31mModelError\u001B[0m: An error occurred (ModelError) when calling the InvokeEndpoint operation: Received client error (400) from container-2 with message \"Unable to evaluate payload provided: Feature size of csv inference data 12 is not consistent with feature size of trained model 11.\". See https://us-east-1.console.aws.amazon.com/cloudwatch/home?region=us-east-1#logEventViewer:group=/aws/sagemaker/Endpoints/churn-score in account 512194003765 for more information."
     ]
    }
   ],
   "source": [
    "calculate_churn_score(new_data)"
   ]
  },
  {
   "cell_type": "code",
   "execution_count": null,
   "metadata": {},
   "outputs": [],
   "source": []
  }
 ],
 "metadata": {
  "kernelspec": {
   "name": "pycharm-34dd5e62",
   "language": "python",
   "display_name": "PyCharm (AbInbev)"
  },
  "language_info": {
   "codemirror_mode": {
    "name": "ipython",
    "version": 3
   },
   "file_extension": ".py",
   "mimetype": "text/x-python",
   "name": "python",
   "nbconvert_exporter": "python",
   "pygments_lexer": "ipython3",
   "version": "3.6.5"
  }
 },
 "nbformat": 4,
 "nbformat_minor": 4
}